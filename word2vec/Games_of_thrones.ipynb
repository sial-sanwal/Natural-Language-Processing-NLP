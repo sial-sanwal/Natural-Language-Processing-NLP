{
  "nbformat": 4,
  "nbformat_minor": 0,
  "metadata": {
    "colab": {
      "provenance": []
    },
    "kernelspec": {
      "name": "python3",
      "display_name": "Python 3"
    },
    "language_info": {
      "name": "python"
    }
  },
  "cells": [
    {
      "cell_type": "code",
      "execution_count": 3,
      "metadata": {
        "colab": {
          "base_uri": "https://localhost:8080/"
        },
        "id": "OEETMlHkQYtR",
        "outputId": "40346e20-fc25-4e07-aa79-e7ec1313340c"
      },
      "outputs": [
        {
          "output_type": "stream",
          "name": "stdout",
          "text": [
            "Requirement already satisfied: kaggle in /usr/local/lib/python3.10/dist-packages (1.5.16)\n",
            "Requirement already satisfied: six>=1.10 in /usr/local/lib/python3.10/dist-packages (from kaggle) (1.16.0)\n",
            "Requirement already satisfied: certifi in /usr/local/lib/python3.10/dist-packages (from kaggle) (2024.2.2)\n",
            "Requirement already satisfied: python-dateutil in /usr/local/lib/python3.10/dist-packages (from kaggle) (2.8.2)\n",
            "Requirement already satisfied: requests in /usr/local/lib/python3.10/dist-packages (from kaggle) (2.31.0)\n",
            "Requirement already satisfied: tqdm in /usr/local/lib/python3.10/dist-packages (from kaggle) (4.66.2)\n",
            "Requirement already satisfied: python-slugify in /usr/local/lib/python3.10/dist-packages (from kaggle) (8.0.4)\n",
            "Requirement already satisfied: urllib3 in /usr/local/lib/python3.10/dist-packages (from kaggle) (2.0.7)\n",
            "Requirement already satisfied: bleach in /usr/local/lib/python3.10/dist-packages (from kaggle) (6.1.0)\n",
            "Requirement already satisfied: webencodings in /usr/local/lib/python3.10/dist-packages (from bleach->kaggle) (0.5.1)\n",
            "Requirement already satisfied: text-unidecode>=1.3 in /usr/local/lib/python3.10/dist-packages (from python-slugify->kaggle) (1.3)\n",
            "Requirement already satisfied: charset-normalizer<4,>=2 in /usr/local/lib/python3.10/dist-packages (from requests->kaggle) (3.3.2)\n",
            "Requirement already satisfied: idna<4,>=2.5 in /usr/local/lib/python3.10/dist-packages (from requests->kaggle) (3.6)\n",
            "Downloading game-of-thrones-books.zip to /content\n",
            "  0% 0.00/3.71M [00:00<?, ?B/s]\n",
            "100% 3.71M/3.71M [00:00<00:00, 175MB/s]\n"
          ]
        }
      ],
      "source": [
        "# First, install the Kaggle library\n",
        "!pip install kaggle\n",
        "\n",
        "!mkdir -p ~/.kaggle\n",
        "!mv kaggle.json ~/.kaggle/\n",
        "\n",
        "# Set permissions\n",
        "!chmod 600 ~/.kaggle/kaggle.json\n",
        "\n",
        "# Now, download the dataset\n",
        "!kaggle datasets download -d khulasasndh/game-of-thrones-books\n"
      ]
    },
    {
      "cell_type": "code",
      "source": [
        "!unzip \"/content/game-of-thrones-books.zip\""
      ],
      "metadata": {
        "colab": {
          "base_uri": "https://localhost:8080/"
        },
        "id": "_cj-lGKCQitY",
        "outputId": "29abd996-68a4-4e44-dc58-ea79e7d52c88"
      },
      "execution_count": 4,
      "outputs": [
        {
          "output_type": "stream",
          "name": "stdout",
          "text": [
            "Archive:  /content/game-of-thrones-books.zip\n",
            "  inflating: 001ssb.txt              \n",
            "  inflating: 002ssb.txt              \n",
            "  inflating: 003ssb.txt              \n",
            "  inflating: 004ssb.txt              \n",
            "  inflating: 005ssb.txt              \n"
          ]
        }
      ]
    },
    {
      "cell_type": "code",
      "source": [
        "import numpy as np\n",
        "import pandas as pd"
      ],
      "metadata": {
        "id": "bVfgl4OlRF86"
      },
      "execution_count": 5,
      "outputs": []
    },
    {
      "cell_type": "code",
      "source": [
        "!pip install gensim"
      ],
      "metadata": {
        "colab": {
          "base_uri": "https://localhost:8080/"
        },
        "id": "Q8-v19n-RSvv",
        "outputId": "6fb79451-d223-42a9-c49b-ac961669524b"
      },
      "execution_count": 6,
      "outputs": [
        {
          "output_type": "stream",
          "name": "stdout",
          "text": [
            "Requirement already satisfied: gensim in /usr/local/lib/python3.10/dist-packages (4.3.2)\n",
            "Requirement already satisfied: numpy>=1.18.5 in /usr/local/lib/python3.10/dist-packages (from gensim) (1.25.2)\n",
            "Requirement already satisfied: scipy>=1.7.0 in /usr/local/lib/python3.10/dist-packages (from gensim) (1.11.4)\n",
            "Requirement already satisfied: smart-open>=1.8.1 in /usr/local/lib/python3.10/dist-packages (from gensim) (6.4.0)\n"
          ]
        }
      ]
    },
    {
      "cell_type": "code",
      "source": [
        "import gensim\n",
        "import os"
      ],
      "metadata": {
        "id": "3ssXPuQcRU7H"
      },
      "execution_count": 7,
      "outputs": []
    },
    {
      "cell_type": "code",
      "source": [
        "import nltk\n",
        "nltk.download('punkt')\n"
      ],
      "metadata": {
        "colab": {
          "base_uri": "https://localhost:8080/"
        },
        "id": "zGdxixzYRv-_",
        "outputId": "bc4e4056-9cac-4918-bb6f-b5db6f2d6157"
      },
      "execution_count": 23,
      "outputs": [
        {
          "output_type": "stream",
          "name": "stderr",
          "text": [
            "[nltk_data] Downloading package punkt to /root/nltk_data...\n",
            "[nltk_data]   Package punkt is already up-to-date!\n"
          ]
        },
        {
          "output_type": "execute_result",
          "data": {
            "text/plain": [
              "True"
            ]
          },
          "metadata": {},
          "execution_count": 23
        }
      ]
    },
    {
      "cell_type": "code",
      "source": [
        "import os\n",
        "from nltk import sent_tokenize\n",
        "from gensim.utils import simple_preprocess\n",
        "\n",
        "story = []\n",
        "for filename in os.listdir('data'):\n",
        "    with open(os.path.join('data', filename), 'r', encoding='latin1') as f:\n",
        "        corpus = f.read()\n",
        "        raw_sent = sent_tokenize(corpus)\n",
        "        for sent in raw_sent:\n",
        "            story.append(simple_preprocess(sent))\n"
      ],
      "metadata": {
        "id": "1uykzsWsRYAZ"
      },
      "execution_count": 13,
      "outputs": []
    },
    {
      "cell_type": "code",
      "source": [
        "len(story)"
      ],
      "metadata": {
        "colab": {
          "base_uri": "https://localhost:8080/"
        },
        "id": "pqPMwZYFSBC-",
        "outputId": "87ceac5c-10c0-4423-a7f2-8843dea85aa1"
      },
      "execution_count": 16,
      "outputs": [
        {
          "output_type": "execute_result",
          "data": {
            "text/plain": [
              "145020"
            ]
          },
          "metadata": {},
          "execution_count": 16
        }
      ]
    },
    {
      "cell_type": "code",
      "source": [
        "story[3]"
      ],
      "metadata": {
        "colab": {
          "base_uri": "https://localhost:8080/"
        },
        "id": "DayLJagySMIT",
        "outputId": "03ee454b-95fc-45c5-feba-a2fbb2277aef"
      },
      "execution_count": 19,
      "outputs": [
        {
          "output_type": "execute_result",
          "data": {
            "text/plain": [
              "['ser',\n",
              " 'waymar',\n",
              " 'royce',\n",
              " 'asked',\n",
              " 'with',\n",
              " 'just',\n",
              " 'the',\n",
              " 'hint',\n",
              " 'of',\n",
              " 'smile']"
            ]
          },
          "metadata": {},
          "execution_count": 19
        }
      ]
    },
    {
      "cell_type": "code",
      "source": [],
      "metadata": {
        "id": "JiSdJG9jSUSx"
      },
      "execution_count": 20,
      "outputs": []
    },
    {
      "cell_type": "code",
      "source": [
        "import nltk\n",
        "nltk.download('stopwords')\n"
      ],
      "metadata": {
        "colab": {
          "base_uri": "https://localhost:8080/"
        },
        "id": "ZwOgbGEicTZH",
        "outputId": "315bc5fe-ecd7-429a-dd30-0295a2224a32"
      },
      "execution_count": 24,
      "outputs": [
        {
          "output_type": "stream",
          "name": "stderr",
          "text": [
            "[nltk_data] Downloading package stopwords to /root/nltk_data...\n",
            "[nltk_data]   Unzipping corpora/stopwords.zip.\n"
          ]
        },
        {
          "output_type": "execute_result",
          "data": {
            "text/plain": [
              "True"
            ]
          },
          "metadata": {},
          "execution_count": 24
        }
      ]
    },
    {
      "cell_type": "code",
      "source": [
        "import os\n",
        "from nltk import sent_tokenize\n",
        "from nltk.corpus import stopwords\n",
        "from gensim.utils import simple_preprocess\n",
        "\n",
        "# Load English stopwords\n",
        "stop_words = set(stopwords.words('english'))\n",
        "\n",
        "story = []\n",
        "for filename in os.listdir('data'):\n",
        "    with open(os.path.join('data', filename), 'rb') as f:  # Open in binary mode\n",
        "        for encoding in ['utf-8', 'latin1', 'iso-8859-1', 'cp1252']:\n",
        "            try:\n",
        "                corpus = f.read().decode(encoding)\n",
        "                raw_sent = sent_tokenize(corpus)\n",
        "                for sent in raw_sent:\n",
        "                    # Tokenize the sentence and remove stopwords\n",
        "                    words = [word for word in simple_preprocess(sent) if word not in stop_words]\n",
        "                    story.append(words)\n",
        "                break  # Stop trying encodings once successful\n",
        "            except UnicodeDecodeError:\n",
        "                continue  # Try next encoding if decoding fails\n",
        "\n",
        "# Process the rest of the code after successfully reading the file\n"
      ],
      "metadata": {
        "id": "1UJHmDpXSwoX"
      },
      "execution_count": 27,
      "outputs": []
    },
    {
      "cell_type": "code",
      "source": [
        "story[3]"
      ],
      "metadata": {
        "colab": {
          "base_uri": "https://localhost:8080/"
        },
        "id": "F3qTAZ9xS02j",
        "outputId": "e3cda0dd-2d9e-475a-f4de-e48c18889d98"
      },
      "execution_count": 28,
      "outputs": [
        {
          "output_type": "execute_result",
          "data": {
            "text/plain": [
              "['ser', 'waymar', 'royce', 'asked', 'hint', 'smile']"
            ]
          },
          "metadata": {},
          "execution_count": 28
        }
      ]
    },
    {
      "cell_type": "code",
      "source": [
        "model = gensim.models.Word2Vec(\n",
        "    window=10,\n",
        "    min_count=2\n",
        ")"
      ],
      "metadata": {
        "id": "t_P6l5GXcmLg"
      },
      "execution_count": 29,
      "outputs": []
    },
    {
      "cell_type": "code",
      "source": [
        "model.build_vocab(story)\n"
      ],
      "metadata": {
        "id": "6vUckeNnc5Ht"
      },
      "execution_count": 30,
      "outputs": []
    },
    {
      "cell_type": "code",
      "source": [
        "model.train(story, total_examples=model.corpus_count, epochs=model.epochs)"
      ],
      "metadata": {
        "colab": {
          "base_uri": "https://localhost:8080/"
        },
        "id": "crzKQ-Q_c7jw",
        "outputId": "a012e1b4-4e86-45cb-db30-56d6c9600831"
      },
      "execution_count": 31,
      "outputs": [
        {
          "output_type": "execute_result",
          "data": {
            "text/plain": [
              "(2543853, 2670660)"
            ]
          },
          "metadata": {},
          "execution_count": 31
        }
      ]
    },
    {
      "cell_type": "code",
      "source": [
        "model.wv.most_similar('daenerys')\n"
      ],
      "metadata": {
        "colab": {
          "base_uri": "https://localhost:8080/"
        },
        "id": "txkZGzH1c_ry",
        "outputId": "d2fd91fa-915a-45f7-ecd0-90abd9a17374"
      },
      "execution_count": 32,
      "outputs": [
        {
          "output_type": "execute_result",
          "data": {
            "text/plain": [
              "[('tyrek', 0.9839968085289001),\n",
              " ('sold', 0.9839838147163391),\n",
              " ('also', 0.9839157462120056),\n",
              " ('champion', 0.9839004874229431),\n",
              " ('attend', 0.9821378588676453),\n",
              " ('alliance', 0.9814395904541016),\n",
              " ('cousins', 0.9812595248222351),\n",
              " ('melee', 0.9809667468070984),\n",
              " ('debt', 0.9809210896492004),\n",
              " ('beggar', 0.9807302355766296)]"
            ]
          },
          "metadata": {},
          "execution_count": 32
        }
      ]
    },
    {
      "cell_type": "code",
      "source": [
        "model.wv.doesnt_match(['jon','rikon','robb','arya','sansa','bran'])\n"
      ],
      "metadata": {
        "colab": {
          "base_uri": "https://localhost:8080/",
          "height": 72
        },
        "id": "1xB2mbvPdDjJ",
        "outputId": "7b506084-42b4-4caf-d794-d03f9b03c096"
      },
      "execution_count": 33,
      "outputs": [
        {
          "output_type": "stream",
          "name": "stderr",
          "text": [
            "WARNING:gensim.models.keyedvectors:vectors for words {'rikon'} are not present in the model, ignoring these words\n"
          ]
        },
        {
          "output_type": "execute_result",
          "data": {
            "text/plain": [
              "'robb'"
            ],
            "application/vnd.google.colaboratory.intrinsic+json": {
              "type": "string"
            }
          },
          "metadata": {},
          "execution_count": 33
        }
      ]
    },
    {
      "cell_type": "code",
      "source": [
        "model.wv.doesnt_match(['cersei', 'jaime', 'bronn', 'tyrion'])\n"
      ],
      "metadata": {
        "colab": {
          "base_uri": "https://localhost:8080/",
          "height": 35
        },
        "id": "gGfP5WBbdHd9",
        "outputId": "f7b4f1a0-71ea-4a10-f4aa-c8c52ce15d04"
      },
      "execution_count": 34,
      "outputs": [
        {
          "output_type": "execute_result",
          "data": {
            "text/plain": [
              "'cersei'"
            ],
            "application/vnd.google.colaboratory.intrinsic+json": {
              "type": "string"
            }
          },
          "metadata": {},
          "execution_count": 34
        }
      ]
    },
    {
      "cell_type": "code",
      "source": [
        "model.wv['king']\n"
      ],
      "metadata": {
        "colab": {
          "base_uri": "https://localhost:8080/"
        },
        "id": "BQSSHrXMdN0j",
        "outputId": "73b13301-1946-4703-f451-f1a0840943cb"
      },
      "execution_count": 35,
      "outputs": [
        {
          "output_type": "execute_result",
          "data": {
            "text/plain": [
              "array([ 0.25602776,  0.26547092,  1.6206598 ,  1.6704789 , -0.2995112 ,\n",
              "       -0.45968097, -0.4338229 ,  0.89212537, -0.7924397 , -1.1784204 ,\n",
              "       -0.22979261,  0.26268005, -0.07696856,  0.24034145,  0.6662791 ,\n",
              "        0.8730665 ,  0.41238302,  0.4826117 ,  0.04244886, -1.5235845 ,\n",
              "        0.20945565, -0.09189375,  0.6761286 , -0.64334553, -0.68832016,\n",
              "        1.5446944 , -1.1940342 ,  0.7550828 , -2.1699486 ,  0.6442482 ,\n",
              "       -1.3578988 , -0.05010698,  0.4763776 , -0.4448845 , -0.27127004,\n",
              "        0.1263027 , -2.0573678 , -1.8750234 , -0.90239096,  0.61964613,\n",
              "        1.1696852 , -1.1973239 , -2.4275825 ,  1.537763  ,  1.2700374 ,\n",
              "       -0.34342498, -2.0785484 , -0.67705274,  2.167857  ,  0.7949753 ,\n",
              "        0.6295307 , -1.0405912 ,  0.71849114, -1.2974807 ,  0.24648994,\n",
              "        0.61162096, -0.414091  ,  1.2053113 ,  0.15740009,  1.9063225 ,\n",
              "       -0.03064514, -0.3285439 , -1.6778435 ,  1.1275381 , -0.26477534,\n",
              "        0.4783327 , -1.214553  ,  2.5409386 , -0.70457375,  0.12631524,\n",
              "        0.59094036, -0.832126  ,  0.7004335 , -0.2846221 , -0.25701568,\n",
              "        0.26607582,  0.5307015 , -1.1733282 ,  0.2722787 , -2.1918705 ,\n",
              "       -1.7821796 , -0.47271153, -1.2443076 ,  1.2635856 , -0.01249032,\n",
              "        0.35467386,  0.5240736 ,  0.8264355 ,  2.1370974 , -0.6628905 ,\n",
              "        0.0215318 ,  0.11607826, -0.40826228,  0.72152066, -0.15569049,\n",
              "        0.9922498 ,  0.68655425, -1.086146  ,  0.4807074 ,  0.37804058],\n",
              "      dtype=float32)"
            ]
          },
          "metadata": {},
          "execution_count": 35
        }
      ]
    },
    {
      "cell_type": "code",
      "source": [
        "model.wv.similarity('arya','sansa')\n"
      ],
      "metadata": {
        "colab": {
          "base_uri": "https://localhost:8080/"
        },
        "id": "qvuKxehldRe7",
        "outputId": "220ca4a7-f024-48f1-aa4c-772526710d9b"
      },
      "execution_count": 36,
      "outputs": [
        {
          "output_type": "execute_result",
          "data": {
            "text/plain": [
              "0.82924247"
            ]
          },
          "metadata": {},
          "execution_count": 36
        }
      ]
    },
    {
      "cell_type": "code",
      "source": [
        "model.wv.similarity('cersei','sansa')\n"
      ],
      "metadata": {
        "colab": {
          "base_uri": "https://localhost:8080/"
        },
        "id": "2an-661odUWt",
        "outputId": "a78ac042-d8f6-47ca-8548-5a8dc6313774"
      },
      "execution_count": 37,
      "outputs": [
        {
          "output_type": "execute_result",
          "data": {
            "text/plain": [
              "0.68437564"
            ]
          },
          "metadata": {},
          "execution_count": 37
        }
      ]
    },
    {
      "cell_type": "code",
      "source": [
        "model.wv.similarity('tywin','sansa')\n"
      ],
      "metadata": {
        "colab": {
          "base_uri": "https://localhost:8080/"
        },
        "id": "olNM5IkidWYB",
        "outputId": "a59ad10e-0bcb-4ce8-99f9-e2196fd7433b"
      },
      "execution_count": 38,
      "outputs": [
        {
          "output_type": "execute_result",
          "data": {
            "text/plain": [
              "0.351167"
            ]
          },
          "metadata": {},
          "execution_count": 38
        }
      ]
    },
    {
      "cell_type": "code",
      "source": [
        "y = model.wv.index_to_key\n"
      ],
      "metadata": {
        "id": "00SXoZmqdYl5"
      },
      "execution_count": 39,
      "outputs": []
    },
    {
      "cell_type": "code",
      "source": [
        "y"
      ],
      "metadata": {
        "colab": {
          "base_uri": "https://localhost:8080/"
        },
        "id": "p-n2wafCddCq",
        "outputId": "d4a08df4-d8e2-4752-b77d-5aaeba8baaf4"
      },
      "execution_count": 40,
      "outputs": [
        {
          "output_type": "execute_result",
          "data": {
            "text/plain": [
              "['said',\n",
              " 'lord',\n",
              " 'would',\n",
              " 'ser',\n",
              " 'one',\n",
              " 'could',\n",
              " 'man',\n",
              " 'king',\n",
              " 'back',\n",
              " 'jon',\n",
              " 'men',\n",
              " 'well',\n",
              " 'like',\n",
              " 'page',\n",
              " 'tyrion',\n",
              " 'father',\n",
              " 'hand',\n",
              " 'see',\n",
              " 'even',\n",
              " 'never',\n",
              " 'know',\n",
              " 'old',\n",
              " 'told',\n",
              " 'eyes',\n",
              " 'black',\n",
              " 'made',\n",
              " 'thought',\n",
              " 'lady',\n",
              " 'arya',\n",
              " 'long',\n",
              " 'time',\n",
              " 'come',\n",
              " 'brother',\n",
              " 'face',\n",
              " 'head',\n",
              " 'bran',\n",
              " 'boy',\n",
              " 'sansa',\n",
              " 'might',\n",
              " 'still',\n",
              " 'us',\n",
              " 'way',\n",
              " 'red',\n",
              " 'must',\n",
              " 'took',\n",
              " 'night',\n",
              " 'good',\n",
              " 'came',\n",
              " 'away',\n",
              " 'catelyn',\n",
              " 'say',\n",
              " 'two',\n",
              " 'saw',\n",
              " 'go',\n",
              " 'robb',\n",
              " 'little',\n",
              " 'son',\n",
              " 'looked',\n",
              " 'take',\n",
              " 'dead',\n",
              " 'sword',\n",
              " 'look',\n",
              " 'yet',\n",
              " 'make',\n",
              " 'great',\n",
              " 'maester',\n",
              " 'ned',\n",
              " 'tell',\n",
              " 'blood',\n",
              " 'three',\n",
              " 'stark',\n",
              " 'dany',\n",
              " 'though',\n",
              " 'around',\n",
              " 'want',\n",
              " 'first',\n",
              " 'gave',\n",
              " 'knew',\n",
              " 'heard',\n",
              " 'day',\n",
              " 'enough',\n",
              " 'left',\n",
              " 'asked',\n",
              " 'half',\n",
              " 'wall',\n",
              " 'much',\n",
              " 'went',\n",
              " 'white',\n",
              " 'jaime',\n",
              " 'turned',\n",
              " 'behind',\n",
              " 'let',\n",
              " 'robert',\n",
              " 'think',\n",
              " 'lannister',\n",
              " 'gods',\n",
              " 'keep',\n",
              " 'horse',\n",
              " 'every',\n",
              " 'queen',\n",
              " 'across',\n",
              " 'castle',\n",
              " 'joffrey',\n",
              " 'girl',\n",
              " 'called',\n",
              " 'found',\n",
              " 'gold',\n",
              " 'knight',\n",
              " 'fire',\n",
              " 'need',\n",
              " 'stannis',\n",
              " 'last',\n",
              " 'seemed',\n",
              " 'woman',\n",
              " 'feet',\n",
              " 'hard',\n",
              " 'hands',\n",
              " 'mother',\n",
              " 'done',\n",
              " 'winterfell',\n",
              " 'nothing',\n",
              " 'ever',\n",
              " 'hair',\n",
              " 'hear',\n",
              " 'voice',\n",
              " 'another',\n",
              " 'beneath',\n",
              " 'stone',\n",
              " 'many',\n",
              " 'water',\n",
              " 'high',\n",
              " 'snow',\n",
              " 'gone',\n",
              " 'stood',\n",
              " 'find',\n",
              " 'wine',\n",
              " 'small',\n",
              " 'put',\n",
              " 'sister',\n",
              " 'dark',\n",
              " 'give',\n",
              " 'grey',\n",
              " 'cersei',\n",
              " 'end',\n",
              " 'place',\n",
              " 'right',\n",
              " 'name',\n",
              " 'watch',\n",
              " 'grace',\n",
              " 'fingers',\n",
              " 'sam',\n",
              " 'seen',\n",
              " 'get',\n",
              " 'beside',\n",
              " 'cloak',\n",
              " 'door',\n",
              " 'years',\n",
              " 'always',\n",
              " 'cold',\n",
              " 'yes',\n",
              " 'better',\n",
              " 'mouth',\n",
              " 'theon',\n",
              " 'walls',\n",
              " 'perhaps',\n",
              " 'shall',\n",
              " 'hundred',\n",
              " 'may',\n",
              " 'felt',\n",
              " 'davos',\n",
              " 'wanted',\n",
              " 'sent',\n",
              " 'others',\n",
              " 'prince',\n",
              " 'brothers',\n",
              " 'green',\n",
              " 'words',\n",
              " 'renly',\n",
              " 'tywin',\n",
              " 'almost',\n",
              " 'iron',\n",
              " 'battle',\n",
              " 'leave',\n",
              " 'north',\n",
              " 'steel',\n",
              " 'true',\n",
              " 'side',\n",
              " 'something',\n",
              " 'bear',\n",
              " 'lost',\n",
              " 'wind',\n",
              " 'children',\n",
              " 'far',\n",
              " 'sweet',\n",
              " 'house',\n",
              " 'moment',\n",
              " 'past',\n",
              " 'horses',\n",
              " 'fear',\n",
              " 'hot',\n",
              " 'young',\n",
              " 'brought',\n",
              " 'tower',\n",
              " 'arms',\n",
              " 'child',\n",
              " 'light',\n",
              " 'kill',\n",
              " 'city',\n",
              " 'wolf',\n",
              " 'strong',\n",
              " 'seven',\n",
              " 'arm',\n",
              " 'taken',\n",
              " 'mormont',\n",
              " 'sat',\n",
              " 'die',\n",
              " 'hall',\n",
              " 'heart',\n",
              " 'lords',\n",
              " 'soon',\n",
              " 'sound',\n",
              " 'killed',\n",
              " 'thing',\n",
              " 'life',\n",
              " 'died',\n",
              " 'big',\n",
              " 'help',\n",
              " 'along',\n",
              " 'word',\n",
              " 'bloody',\n",
              " 'rode',\n",
              " 'best',\n",
              " 'tried',\n",
              " 'going',\n",
              " 'mean',\n",
              " 'hodor',\n",
              " 'rest',\n",
              " 'close',\n",
              " 'sea',\n",
              " 'cut',\n",
              " 'smile',\n",
              " 'silver',\n",
              " 'river',\n",
              " 'open',\n",
              " 'thousand',\n",
              " 'jorah',\n",
              " 'began',\n",
              " 'new',\n",
              " 'got',\n",
              " 'daughter',\n",
              " 'uncle',\n",
              " 'landing',\n",
              " 'swords',\n",
              " 'feel',\n",
              " 'laughed',\n",
              " 'varys',\n",
              " 'bed',\n",
              " 'fell',\n",
              " 'wife',\n",
              " 'pale',\n",
              " 'heavy',\n",
              " 'fool',\n",
              " 'honor',\n",
              " 'bastard',\n",
              " 'bring',\n",
              " 'rock',\n",
              " 'table',\n",
              " 'love',\n",
              " 'without',\n",
              " 'smiled',\n",
              " 'ride',\n",
              " 'pulled',\n",
              " 'moved',\n",
              " 'free',\n",
              " 'thick',\n",
              " 'oh',\n",
              " 'certain',\n",
              " 'sleep',\n",
              " 'air',\n",
              " 'remembered',\n",
              " 'knights',\n",
              " 'inside',\n",
              " 'deep',\n",
              " 'part',\n",
              " 'throat',\n",
              " 'room',\n",
              " 'remember',\n",
              " 'toward',\n",
              " 'ground',\n",
              " 'blue',\n",
              " 'days',\n",
              " 'ran',\n",
              " 'together',\n",
              " 'war',\n",
              " 'reached',\n",
              " 'death',\n",
              " 'call',\n",
              " 'trees',\n",
              " 'fight',\n",
              " 'riverrun',\n",
              " 'walder',\n",
              " 'rose',\n",
              " 'speak',\n",
              " 'wood',\n",
              " 'sons',\n",
              " 'set',\n",
              " 'upon',\n",
              " 'send',\n",
              " 'burned',\n",
              " 'hound',\n",
              " 'alone',\n",
              " 'eddard',\n",
              " 'truth',\n",
              " 'full',\n",
              " 'things',\n",
              " 'legs',\n",
              " 'beyond',\n",
              " 'sun',\n",
              " 'soft',\n",
              " 'dragon',\n",
              " 'brienne',\n",
              " 'summer',\n",
              " 'tall',\n",
              " 'given',\n",
              " 'held',\n",
              " 'four',\n",
              " 'please',\n",
              " 'frey',\n",
              " 'hold',\n",
              " 'meant',\n",
              " 'skin',\n",
              " 'gate',\n",
              " 'coming',\n",
              " 'next',\n",
              " 'littlefinger',\n",
              " 'else',\n",
              " 'near',\n",
              " 'world',\n",
              " 'morning',\n",
              " 'broken',\n",
              " 'south',\n",
              " 'throne',\n",
              " 'steps',\n",
              " 'dragons',\n",
              " 'neck',\n",
              " 'lysa',\n",
              " 'someone',\n",
              " 'watched',\n",
              " 'drogo',\n",
              " 'hope',\n",
              " 'golden',\n",
              " 'raised',\n",
              " 'talk',\n",
              " 'women',\n",
              " 'storm',\n",
              " 'commander',\n",
              " 'teeth',\n",
              " 'command',\n",
              " 'people',\n",
              " 'shadow',\n",
              " 'caught',\n",
              " 'brown',\n",
              " 'armor',\n",
              " 'matter',\n",
              " 'leather',\n",
              " 'second',\n",
              " 'shoulder',\n",
              " 'believe',\n",
              " 'since',\n",
              " 'bronn',\n",
              " 'ask',\n",
              " 'blade',\n",
              " 'opened',\n",
              " 'ghost',\n",
              " 'foot',\n",
              " 'pie',\n",
              " 'khal',\n",
              " 'closed',\n",
              " 'shouted',\n",
              " 'fat',\n",
              " 'luwin',\n",
              " 'lannisters',\n",
              " 'cloaks',\n",
              " 'wore',\n",
              " 'safe',\n",
              " 'times',\n",
              " 'outside',\n",
              " 'kept',\n",
              " 'sky',\n",
              " 'cup',\n",
              " 'tongue',\n",
              " 'doubt',\n",
              " 'squire',\n",
              " 'dozen',\n",
              " 'suddenly',\n",
              " 'clegane',\n",
              " 'wondered',\n",
              " 'empty',\n",
              " 'turn',\n",
              " 'dothraki',\n",
              " 'home',\n",
              " 'edmure',\n",
              " 'maybe',\n",
              " 'run',\n",
              " 'arryn',\n",
              " 'harrenhal',\n",
              " 'answer',\n",
              " 'commanded',\n",
              " 'huge',\n",
              " 'guard',\n",
              " 'known',\n",
              " 'moon',\n",
              " 'baratheon',\n",
              " 'sometimes',\n",
              " 'mine',\n",
              " 'lay',\n",
              " 'ice',\n",
              " 'tyrell',\n",
              " 'wed',\n",
              " 'forward',\n",
              " 'mance',\n",
              " 'gendry',\n",
              " 'hurt',\n",
              " 'direwolf',\n",
              " 'guards',\n",
              " 'rodrik',\n",
              " 'led',\n",
              " 'floor',\n",
              " 'bolton',\n",
              " 'least',\n",
              " 'lifted',\n",
              " 'yard',\n",
              " 'truly',\n",
              " 'flames',\n",
              " 'thin',\n",
              " 'followed',\n",
              " 'helm',\n",
              " 'eye',\n",
              " 'breath',\n",
              " 'dwarf',\n",
              " 'less',\n",
              " 'chest',\n",
              " 'afraid',\n",
              " 'cannot',\n",
              " 'smell',\n",
              " 'tree',\n",
              " 'wish',\n",
              " 'shield',\n",
              " 'looking',\n",
              " 'used',\n",
              " 'finally',\n",
              " 'waiting',\n",
              " 'leg',\n",
              " 'crown',\n",
              " 'seem',\n",
              " 'liked',\n",
              " 'none',\n",
              " 'petyr',\n",
              " 'realm',\n",
              " 'fall',\n",
              " 'walked',\n",
              " 'fighting',\n",
              " 'beard',\n",
              " 'rain',\n",
              " 'boys',\n",
              " 'aside',\n",
              " 'covered',\n",
              " 'says',\n",
              " 'drew',\n",
              " 'instead',\n",
              " 'wolves',\n",
              " 'sight',\n",
              " 'song',\n",
              " 'wildlings',\n",
              " 'brave',\n",
              " 'ten',\n",
              " 'filled',\n",
              " 'whispered',\n",
              " 'return',\n",
              " 'burning',\n",
              " 'strength',\n",
              " 'five',\n",
              " 'warm',\n",
              " 'lips',\n",
              " 'wooden',\n",
              " 'food',\n",
              " 'ears',\n",
              " 'different',\n",
              " 'dagger',\n",
              " 'kingsguard',\n",
              " 'returned',\n",
              " 'care',\n",
              " 'stop',\n",
              " 'later',\n",
              " 'captain',\n",
              " 'sure',\n",
              " 'spoke',\n",
              " 'aemon',\n",
              " 'wet',\n",
              " 'wrong',\n",
              " 'friend',\n",
              " 'stand',\n",
              " 'spear',\n",
              " 'pain',\n",
              " 'gregor',\n",
              " 'promised',\n",
              " 'loved',\n",
              " 'bad',\n",
              " 'grew',\n",
              " 'low',\n",
              " 'broke',\n",
              " 'wedding',\n",
              " 'west',\n",
              " 'seat',\n",
              " 'greyjoy',\n",
              " 'sharp',\n",
              " 'flesh',\n",
              " 'axe',\n",
              " 'passed',\n",
              " 'belly',\n",
              " 'stay',\n",
              " 'either',\n",
              " 'work',\n",
              " 'eat',\n",
              " 'stopped',\n",
              " 'kingdoms',\n",
              " 'window',\n",
              " 'ought',\n",
              " 'shoulders',\n",
              " 'raven',\n",
              " 'darkness',\n",
              " 'year',\n",
              " 'quiet',\n",
              " 'mountain',\n",
              " 'use',\n",
              " 'anything',\n",
              " 'taste',\n",
              " 'realized',\n",
              " 'pycelle',\n",
              " 'riding',\n",
              " 'nose',\n",
              " 'pointed',\n",
              " 'running',\n",
              " 'named',\n",
              " 'onto',\n",
              " 'lie',\n",
              " 'quick',\n",
              " 'often',\n",
              " 'longer',\n",
              " 'dream',\n",
              " 'stupid',\n",
              " 'step',\n",
              " 'mind',\n",
              " 'rickon',\n",
              " 'within',\n",
              " 'among',\n",
              " 'grenn',\n",
              " 'pushed',\n",
              " 'glanced',\n",
              " 'shook',\n",
              " 'show',\n",
              " 'short',\n",
              " 'tears',\n",
              " 'six',\n",
              " 'dogs',\n",
              " 'replied',\n",
              " 'master',\n",
              " 'stepped',\n",
              " 'serve',\n",
              " 'viserys',\n",
              " 'late',\n",
              " 'silk',\n",
              " 'round',\n",
              " 'gates',\n",
              " 'eunuch',\n",
              " 'feast',\n",
              " 'common',\n",
              " 'meera',\n",
              " 'third',\n",
              " 'yellow',\n",
              " 'top',\n",
              " 'bright',\n",
              " 'faces',\n",
              " 'remained',\n",
              " 'husband',\n",
              " 'reach',\n",
              " 'fist',\n",
              " 'septon',\n",
              " 'bird',\n",
              " 'touched',\n",
              " 'trying',\n",
              " 'older',\n",
              " 'knife',\n",
              " 'screamed',\n",
              " 'smoke',\n",
              " 'yoren',\n",
              " 'saddle',\n",
              " 'threw',\n",
              " 'bit',\n",
              " 'heir',\n",
              " 'try',\n",
              " 'craster',\n",
              " 'meat',\n",
              " 'understand',\n",
              " 'bones',\n",
              " 'camp',\n",
              " 'angry',\n",
              " 'answered',\n",
              " 'swear',\n",
              " 'point',\n",
              " 'banners',\n",
              " 'closer',\n",
              " 'casterly',\n",
              " 'kind',\n",
              " 'whole',\n",
              " 'road',\n",
              " 'worse',\n",
              " 'tully',\n",
              " 'shae',\n",
              " 'wait',\n",
              " 'walk',\n",
              " 'needed',\n",
              " 'grown',\n",
              " 'climbed',\n",
              " 'leaves',\n",
              " 'council',\n",
              " 'girls',\n",
              " 'front',\n",
              " 'ship',\n",
              " 'poor',\n",
              " 'dog',\n",
              " 'jojen',\n",
              " 'mud',\n",
              " 'silence',\n",
              " 'sworn',\n",
              " 'lion',\n",
              " 'slid',\n",
              " 'ygritte',\n",
              " 'born',\n",
              " 'ships',\n",
              " 'narrow',\n",
              " 'carried',\n",
              " 'making',\n",
              " 'heads',\n",
              " 'sit',\n",
              " 'ahead',\n",
              " 'twenty',\n",
              " 'trident',\n",
              " 'sooner',\n",
              " 'reminded',\n",
              " 'choice',\n",
              " 'forgotten',\n",
              " 'east',\n",
              " 'towers',\n",
              " 'kings',\n",
              " 'wench',\n",
              " 'fallen',\n",
              " 'live',\n",
              " 'wonder',\n",
              " 'beric',\n",
              " 'loras',\n",
              " 'nodded',\n",
              " 'wide',\n",
              " 'friends',\n",
              " 'ago',\n",
              " 'crow',\n",
              " 'host',\n",
              " 'twisted',\n",
              " 'crows',\n",
              " 'dawn',\n",
              " 'knees',\n",
              " 'imp',\n",
              " 'body',\n",
              " 'hung',\n",
              " 'beautiful',\n",
              " 'started',\n",
              " 'drink',\n",
              " 'saying',\n",
              " 'bread',\n",
              " 'slowly',\n",
              " 'fought',\n",
              " 'scarcely',\n",
              " 'wants',\n",
              " 'whatever',\n",
              " 'chapter',\n",
              " 'save',\n",
              " 'letter',\n",
              " 'offered',\n",
              " 'balon',\n",
              " 'thank',\n",
              " 'arrows',\n",
              " 'standing',\n",
              " 'agreed',\n",
              " 'arrow',\n",
              " 'silent',\n",
              " 'chain',\n",
              " 'laughter',\n",
              " 'horn',\n",
              " 'served',\n",
              " 'whose',\n",
              " 'tent',\n",
              " 'frightened',\n",
              " 'maid',\n",
              " 'fast',\n",
              " 'eight',\n",
              " 'promise',\n",
              " 'knee',\n",
              " 'stones',\n",
              " 'pass',\n",
              " 'fine',\n",
              " 'aerys',\n",
              " 'princess',\n",
              " 'knows',\n",
              " 'happened',\n",
              " 'dreams',\n",
              " 'anyone',\n",
              " 'power',\n",
              " 'alive',\n",
              " 'dragonstone',\n",
              " 'pay',\n",
              " 'easy',\n",
              " 'lands',\n",
              " 'aye',\n",
              " 'kingslayer',\n",
              " 'helped',\n",
              " 'joff',\n",
              " 'shadows',\n",
              " 'mail',\n",
              " 'ones',\n",
              " 'line',\n",
              " 'targaryen',\n",
              " 'fish',\n",
              " 'mounted',\n",
              " 'melisandre',\n",
              " 'already',\n",
              " 'field',\n",
              " 'pray',\n",
              " 'large',\n",
              " 'wings',\n",
              " 'rhaegar',\n",
              " 'falling',\n",
              " 'tom',\n",
              " 'eyrie',\n",
              " 'milk',\n",
              " 'septa',\n",
              " 'watching',\n",
              " 'slow',\n",
              " 'aegon',\n",
              " 'hill',\n",
              " 'peace',\n",
              " 'torch',\n",
              " 'younger',\n",
              " 'sort',\n",
              " 'mad',\n",
              " 'gift',\n",
              " 'laid',\n",
              " 'taking',\n",
              " 'stars',\n",
              " 'shouting',\n",
              " 'sudden',\n",
              " 'singer',\n",
              " 'names',\n",
              " 'khaleesi',\n",
              " 'edge',\n",
              " 'fair',\n",
              " 'knelt',\n",
              " 'age',\n",
              " 'slynt',\n",
              " 'somehow',\n",
              " 'qhorin',\n",
              " 'waited',\n",
              " 'starks',\n",
              " 'quite',\n",
              " 'wildling',\n",
              " 'softly',\n",
              " 'laugh',\n",
              " 'cell',\n",
              " 'forest',\n",
              " 'neither',\n",
              " 'finger',\n",
              " 'sept',\n",
              " 'tight',\n",
              " 'pleased',\n",
              " 'move',\n",
              " 'margaery',\n",
              " 'kissed',\n",
              " 'boots',\n",
              " 'warned',\n",
              " 'kiss',\n",
              " 'pyp',\n",
              " 'blind',\n",
              " 'voices',\n",
              " 'sense',\n",
              " 'sail',\n",
              " 'bronze',\n",
              " 'god',\n",
              " 'nan',\n",
              " 'comes',\n",
              " 'met',\n",
              " 'sorry',\n",
              " 'atop',\n",
              " 'question',\n",
              " 'godswood',\n",
              " 'spears',\n",
              " 'winter',\n",
              " 'ear',\n",
              " 'coin',\n",
              " 'tourney',\n",
              " 'mountains',\n",
              " 'mercy',\n",
              " 'sandor',\n",
              " 'doors',\n",
              " 'army',\n",
              " 'read',\n",
              " 'tarly',\n",
              " 'everyone',\n",
              " 'cried',\n",
              " 'trust',\n",
              " 'thinking',\n",
              " 'crossed',\n",
              " 'courage',\n",
              " 'win',\n",
              " 'alliser',\n",
              " 'learned',\n",
              " 'instant',\n",
              " 'break',\n",
              " 'lived',\n",
              " 'everything',\n",
              " 'lem',\n",
              " 'cruel',\n",
              " 'service',\n",
              " 'needs',\n",
              " 'salt',\n",
              " 'land',\n",
              " 'drunk',\n",
              " 'earth',\n",
              " 'court',\n",
              " 'climb',\n",
              " 'loose',\n",
              " 'chance',\n",
              " 'dressed',\n",
              " 'rise',\n",
              " 'fires',\n",
              " 'dry',\n",
              " 'surely',\n",
              " 'makes',\n",
              " 'giant',\n",
              " 'grabbed',\n",
              " 'steward',\n",
              " 'seems',\n",
              " 'flowers',\n",
              " 'woke',\n",
              " 'flew',\n",
              " 'longsword',\n",
              " 'join',\n",
              " 'highgarden',\n",
              " 'fur',\n",
              " 'forth',\n",
              " 'learn',\n",
              " 'clothes',\n",
              " 'grass',\n",
              " 'blow',\n",
              " 'seated',\n",
              " 'insisted',\n",
              " 'tonight',\n",
              " 'barristan',\n",
              " 'cleos',\n",
              " 'clean',\n",
              " 'captive',\n",
              " 'banner',\n",
              " 'declared',\n",
              " 'daughters',\n",
              " 'afterward',\n",
              " 'cry',\n",
              " 'brandon',\n",
              " 'bare',\n",
              " 'woods',\n",
              " 'play',\n",
              " 'moving',\n",
              " 'today',\n",
              " 'pyke',\n",
              " 'talking',\n",
              " 'swung',\n",
              " 'kevan',\n",
              " 'quickly',\n",
              " 'roof',\n",
              " 'serving',\n",
              " 'able',\n",
              " 'weight',\n",
              " 'slain',\n",
              " 'grand',\n",
              " 'sighed',\n",
              " 'illyrio',\n",
              " 'terrible',\n",
              " 'janos',\n",
              " 'wound',\n",
              " 'forget',\n",
              " 'sad',\n",
              " 'pretty',\n",
              " 'naked',\n",
              " 'birds',\n",
              " 'bowed',\n",
              " 'touch',\n",
              " 'wild',\n",
              " 'follow',\n",
              " 'village',\n",
              " 'listen',\n",
              " 'twins',\n",
              " 'blackwater',\n",
              " 'riders',\n",
              " 'sounded',\n",
              " 'weak',\n",
              " 'dying',\n",
              " 'breast',\n",
              " 'hour',\n",
              " 'rising',\n",
              " 'swore',\n",
              " 'jeyne',\n",
              " 'harm',\n",
              " 'leaned',\n",
              " 'shout',\n",
              " 'laughing',\n",
              " 'means',\n",
              " 'hide',\n",
              " 'stared',\n",
              " 'drank',\n",
              " 'justice',\n",
              " 'apart',\n",
              " 'hoped',\n",
              " 'ugly',\n",
              " 'duty',\n",
              " 'twice',\n",
              " 'kingsroad',\n",
              " 'spread',\n",
              " 'bow',\n",
              " 'offer',\n",
              " 'sisters',\n",
              " 'ravens',\n",
              " 'vale',\n",
              " 'grow',\n",
              " 'tired',\n",
              " 'whether',\n",
              " 'fierce',\n",
              " 'chair',\n",
              " 'marry',\n",
              " 'cat',\n",
              " 'leaving',\n",
              " 'likely',\n",
              " 'pink',\n",
              " 'hungry',\n",
              " 'smiling',\n",
              " 'commands',\n",
              " 'protect',\n",
              " 'admitted',\n",
              " 'sing',\n",
              " 'oberyn',\n",
              " 'trouble',\n",
              " 'osha',\n",
              " 'march',\n",
              " 'cheeks',\n",
              " 'wool',\n",
              " 'wake',\n",
              " 'jory',\n",
              " 'halfhand',\n",
              " 'nine',\n",
              " 'eyed',\n",
              " 'hidden',\n",
              " 'inn',\n",
              " 'whore',\n",
              " 'frowned',\n",
              " 'fly',\n",
              " 'lad',\n",
              " 'count',\n",
              " 'royal',\n",
              " 'chains',\n",
              " 'pull',\n",
              " 'beat',\n",
              " 'lead',\n",
              " 'thrust',\n",
              " 'feared',\n",
              " 'unless',\n",
              " 'rolled',\n",
              " 'telling',\n",
              " 'chett',\n",
              " 'cheek',\n",
              " 'dontos',\n",
              " 'morrow',\n",
              " 'carry',\n",
              " 'ill',\n",
              " 'living',\n",
              " 'tommen',\n",
              " 'pressed',\n",
              " 'stick',\n",
              " 'rivers',\n",
              " 'kicked',\n",
              " 'besides',\n",
              " 'slept',\n",
              " 'hit',\n",
              " 'shrugged',\n",
              " 'snapped',\n",
              " ...]"
            ]
          },
          "metadata": {},
          "execution_count": 40
        }
      ]
    },
    {
      "cell_type": "code",
      "source": [
        "from sklearn.decomposition import PCA\n"
      ],
      "metadata": {
        "id": "D7_LFW9-ddrz"
      },
      "execution_count": 41,
      "outputs": []
    },
    {
      "cell_type": "code",
      "source": [
        "pca = PCA(n_components=3)\n"
      ],
      "metadata": {
        "id": "AUztaxwXdiww"
      },
      "execution_count": 42,
      "outputs": []
    },
    {
      "cell_type": "code",
      "source": [
        "X = pca.fit_transform(model.wv.get_normed_vectors())\n"
      ],
      "metadata": {
        "id": "8mTqsEOCdknn"
      },
      "execution_count": 43,
      "outputs": []
    },
    {
      "cell_type": "code",
      "source": [
        "X.shape\n"
      ],
      "metadata": {
        "colab": {
          "base_uri": "https://localhost:8080/"
        },
        "id": "GLx4bHCEdmzF",
        "outputId": "437602a8-27b4-4fa9-c439-ff13906c4d8d"
      },
      "execution_count": 44,
      "outputs": [
        {
          "output_type": "execute_result",
          "data": {
            "text/plain": [
              "(13632, 3)"
            ]
          },
          "metadata": {},
          "execution_count": 44
        }
      ]
    },
    {
      "cell_type": "code",
      "source": [
        "import plotly.express as px\n",
        "fig = px.scatter_3d(X[200:300],x=0,y=1,z=2, color=y[200:300])\n",
        "fig.show()"
      ],
      "metadata": {
        "colab": {
          "base_uri": "https://localhost:8080/",
          "height": 542
        },
        "id": "uozgBgAHdoi4",
        "outputId": "4eadd4c6-92b7-4c95-dfb7-ebbf68e80bcf"
      },
      "execution_count": 45,
      "outputs": [
        {
          "output_type": "display_data",
          "data": {
            "text/html": [
              "<html>\n",
              "<head><meta charset=\"utf-8\" /></head>\n",
              "<body>\n",
              "    <div>            <script src=\"https://cdnjs.cloudflare.com/ajax/libs/mathjax/2.7.5/MathJax.js?config=TeX-AMS-MML_SVG\"></script><script type=\"text/javascript\">if (window.MathJax && window.MathJax.Hub && window.MathJax.Hub.Config) {window.MathJax.Hub.Config({SVG: {font: \"STIX-Web\"}});}</script>                <script type=\"text/javascript\">window.PlotlyConfig = {MathJaxConfig: 'local'};</script>\n",
              "        <script charset=\"utf-8\" src=\"https://cdn.plot.ly/plotly-2.24.1.min.js\"></script>                <div id=\"20390b18-7ee5-482c-b4ba-63406c1effa1\" class=\"plotly-graph-div\" style=\"height:525px; width:100%;\"></div>            <script type=\"text/javascript\">                                    window.PLOTLYENV=window.PLOTLYENV || {};                                    if (document.getElementById(\"20390b18-7ee5-482c-b4ba-63406c1effa1\")) {                    Plotly.newPlot(                        \"20390b18-7ee5-482c-b4ba-63406c1effa1\",                        [{\"hovertemplate\":\"color=young\\u003cbr\\u003e0=%{x}\\u003cbr\\u003e1=%{y}\\u003cbr\\u003e2=%{z}\\u003cextra\\u003e\\u003c\\u002fextra\\u003e\",\"legendgroup\":\"young\",\"marker\":{\"color\":\"#636efa\",\"symbol\":\"circle\"},\"mode\":\"markers\",\"name\":\"young\",\"scene\":\"scene\",\"showlegend\":true,\"x\":[-0.4987896978855133],\"y\":[0.39386698603630066],\"z\":[-0.05806901678442955],\"type\":\"scatter3d\"},{\"hovertemplate\":\"color=brought\\u003cbr\\u003e0=%{x}\\u003cbr\\u003e1=%{y}\\u003cbr\\u003e2=%{z}\\u003cextra\\u003e\\u003c\\u002fextra\\u003e\",\"legendgroup\":\"brought\",\"marker\":{\"color\":\"#EF553B\",\"symbol\":\"circle\"},\"mode\":\"markers\",\"name\":\"brought\",\"scene\":\"scene\",\"showlegend\":true,\"x\":[-0.06003981828689575],\"y\":[0.36550143361091614],\"z\":[0.04414758086204529],\"type\":\"scatter3d\"},{\"hovertemplate\":\"color=tower\\u003cbr\\u003e0=%{x}\\u003cbr\\u003e1=%{y}\\u003cbr\\u003e2=%{z}\\u003cextra\\u003e\\u003c\\u002fextra\\u003e\",\"legendgroup\":\"tower\",\"marker\":{\"color\":\"#00cc96\",\"symbol\":\"circle\"},\"mode\":\"markers\",\"name\":\"tower\",\"scene\":\"scene\",\"showlegend\":true,\"x\":[0.5102901458740234],\"y\":[0.23695598542690277],\"z\":[0.42187121510505676],\"type\":\"scatter3d\"},{\"hovertemplate\":\"color=arms\\u003cbr\\u003e0=%{x}\\u003cbr\\u003e1=%{y}\\u003cbr\\u003e2=%{z}\\u003cextra\\u003e\\u003c\\u002fextra\\u003e\",\"legendgroup\":\"arms\",\"marker\":{\"color\":\"#ab63fa\",\"symbol\":\"circle\"},\"mode\":\"markers\",\"name\":\"arms\",\"scene\":\"scene\",\"showlegend\":true,\"x\":[0.5246431827545166],\"y\":[0.3104163408279419],\"z\":[0.014178545214235783],\"type\":\"scatter3d\"},{\"hovertemplate\":\"color=child\\u003cbr\\u003e0=%{x}\\u003cbr\\u003e1=%{y}\\u003cbr\\u003e2=%{z}\\u003cextra\\u003e\\u003c\\u002fextra\\u003e\",\"legendgroup\":\"child\",\"marker\":{\"color\":\"#FFA15A\",\"symbol\":\"circle\"},\"mode\":\"markers\",\"name\":\"child\",\"scene\":\"scene\",\"showlegend\":true,\"x\":[-0.5959997177124023],\"y\":[-0.18565085530281067],\"z\":[-0.036263976246118546],\"type\":\"scatter3d\"},{\"hovertemplate\":\"color=light\\u003cbr\\u003e0=%{x}\\u003cbr\\u003e1=%{y}\\u003cbr\\u003e2=%{z}\\u003cextra\\u003e\\u003c\\u002fextra\\u003e\",\"legendgroup\":\"light\",\"marker\":{\"color\":\"#19d3f3\",\"symbol\":\"circle\"},\"mode\":\"markers\",\"name\":\"light\",\"scene\":\"scene\",\"showlegend\":true,\"x\":[0.6053425073623657],\"y\":[0.014546402730047703],\"z\":[0.22563304007053375],\"type\":\"scatter3d\"},{\"hovertemplate\":\"color=kill\\u003cbr\\u003e0=%{x}\\u003cbr\\u003e1=%{y}\\u003cbr\\u003e2=%{z}\\u003cextra\\u003e\\u003c\\u002fextra\\u003e\",\"legendgroup\":\"kill\",\"marker\":{\"color\":\"#FF6692\",\"symbol\":\"circle\"},\"mode\":\"markers\",\"name\":\"kill\",\"scene\":\"scene\",\"showlegend\":true,\"x\":[-0.5987052321434021],\"y\":[-0.26579713821411133],\"z\":[0.11255030333995819],\"type\":\"scatter3d\"},{\"hovertemplate\":\"color=city\\u003cbr\\u003e0=%{x}\\u003cbr\\u003e1=%{y}\\u003cbr\\u003e2=%{z}\\u003cextra\\u003e\\u003c\\u002fextra\\u003e\",\"legendgroup\":\"city\",\"marker\":{\"color\":\"#B6E880\",\"symbol\":\"circle\"},\"mode\":\"markers\",\"name\":\"city\",\"scene\":\"scene\",\"showlegend\":true,\"x\":[-0.1351694017648697],\"y\":[0.2605736553668976],\"z\":[0.6012508869171143],\"type\":\"scatter3d\"},{\"hovertemplate\":\"color=wolf\\u003cbr\\u003e0=%{x}\\u003cbr\\u003e1=%{y}\\u003cbr\\u003e2=%{z}\\u003cextra\\u003e\\u003c\\u002fextra\\u003e\",\"legendgroup\":\"wolf\",\"marker\":{\"color\":\"#FF97FF\",\"symbol\":\"circle\"},\"mode\":\"markers\",\"name\":\"wolf\",\"scene\":\"scene\",\"showlegend\":true,\"x\":[0.026630371809005737],\"y\":[-0.30315107107162476],\"z\":[-0.06982242316007614],\"type\":\"scatter3d\"},{\"hovertemplate\":\"color=strong\\u003cbr\\u003e0=%{x}\\u003cbr\\u003e1=%{y}\\u003cbr\\u003e2=%{z}\\u003cextra\\u003e\\u003c\\u002fextra\\u003e\",\"legendgroup\":\"strong\",\"marker\":{\"color\":\"#FECB52\",\"symbol\":\"circle\"},\"mode\":\"markers\",\"name\":\"strong\",\"scene\":\"scene\",\"showlegend\":true,\"x\":[-0.16965323686599731],\"y\":[-0.1570044606924057],\"z\":[0.30172792077064514],\"type\":\"scatter3d\"},{\"hovertemplate\":\"color=seven\\u003cbr\\u003e0=%{x}\\u003cbr\\u003e1=%{y}\\u003cbr\\u003e2=%{z}\\u003cextra\\u003e\\u003c\\u002fextra\\u003e\",\"legendgroup\":\"seven\",\"marker\":{\"color\":\"#636efa\",\"symbol\":\"circle\"},\"mode\":\"markers\",\"name\":\"seven\",\"scene\":\"scene\",\"showlegend\":true,\"x\":[-0.37074628472328186],\"y\":[0.45054107904434204],\"z\":[0.5717601776123047],\"type\":\"scatter3d\"},{\"hovertemplate\":\"color=arm\\u003cbr\\u003e0=%{x}\\u003cbr\\u003e1=%{y}\\u003cbr\\u003e2=%{z}\\u003cextra\\u003e\\u003c\\u002fextra\\u003e\",\"legendgroup\":\"arm\",\"marker\":{\"color\":\"#EF553B\",\"symbol\":\"circle\"},\"mode\":\"markers\",\"name\":\"arm\",\"scene\":\"scene\",\"showlegend\":true,\"x\":[0.5609955191612244],\"y\":[0.18145087361335754],\"z\":[-0.21205741167068481],\"type\":\"scatter3d\"},{\"hovertemplate\":\"color=taken\\u003cbr\\u003e0=%{x}\\u003cbr\\u003e1=%{y}\\u003cbr\\u003e2=%{z}\\u003cextra\\u003e\\u003c\\u002fextra\\u003e\",\"legendgroup\":\"taken\",\"marker\":{\"color\":\"#00cc96\",\"symbol\":\"circle\"},\"mode\":\"markers\",\"name\":\"taken\",\"scene\":\"scene\",\"showlegend\":true,\"x\":[-0.43016499280929565],\"y\":[0.30815479159355164],\"z\":[0.32685020565986633],\"type\":\"scatter3d\"},{\"hovertemplate\":\"color=mormont\\u003cbr\\u003e0=%{x}\\u003cbr\\u003e1=%{y}\\u003cbr\\u003e2=%{z}\\u003cextra\\u003e\\u003c\\u002fextra\\u003e\",\"legendgroup\":\"mormont\",\"marker\":{\"color\":\"#ab63fa\",\"symbol\":\"circle\"},\"mode\":\"markers\",\"name\":\"mormont\",\"scene\":\"scene\",\"showlegend\":true,\"x\":[-0.12055870145559311],\"y\":[0.5023807883262634],\"z\":[-0.23923423886299133],\"type\":\"scatter3d\"},{\"hovertemplate\":\"color=sat\\u003cbr\\u003e0=%{x}\\u003cbr\\u003e1=%{y}\\u003cbr\\u003e2=%{z}\\u003cextra\\u003e\\u003c\\u002fextra\\u003e\",\"legendgroup\":\"sat\",\"marker\":{\"color\":\"#FFA15A\",\"symbol\":\"circle\"},\"mode\":\"markers\",\"name\":\"sat\",\"scene\":\"scene\",\"showlegend\":true,\"x\":[0.4708353281021118],\"y\":[0.3450964391231537],\"z\":[-0.04505760222673416],\"type\":\"scatter3d\"},{\"hovertemplate\":\"color=die\\u003cbr\\u003e0=%{x}\\u003cbr\\u003e1=%{y}\\u003cbr\\u003e2=%{z}\\u003cextra\\u003e\\u003c\\u002fextra\\u003e\",\"legendgroup\":\"die\",\"marker\":{\"color\":\"#19d3f3\",\"symbol\":\"circle\"},\"mode\":\"markers\",\"name\":\"die\",\"scene\":\"scene\",\"showlegend\":true,\"x\":[-0.5959857702255249],\"y\":[-0.2272963970899582],\"z\":[0.28453728556632996],\"type\":\"scatter3d\"},{\"hovertemplate\":\"color=hall\\u003cbr\\u003e0=%{x}\\u003cbr\\u003e1=%{y}\\u003cbr\\u003e2=%{z}\\u003cextra\\u003e\\u003c\\u002fextra\\u003e\",\"legendgroup\":\"hall\",\"marker\":{\"color\":\"#FF6692\",\"symbol\":\"circle\"},\"mode\":\"markers\",\"name\":\"hall\",\"scene\":\"scene\",\"showlegend\":true,\"x\":[0.37215566635131836],\"y\":[0.18472570180892944],\"z\":[0.28756090998649597],\"type\":\"scatter3d\"},{\"hovertemplate\":\"color=heart\\u003cbr\\u003e0=%{x}\\u003cbr\\u003e1=%{y}\\u003cbr\\u003e2=%{z}\\u003cextra\\u003e\\u003c\\u002fextra\\u003e\",\"legendgroup\":\"heart\",\"marker\":{\"color\":\"#B6E880\",\"symbol\":\"circle\"},\"mode\":\"markers\",\"name\":\"heart\",\"scene\":\"scene\",\"showlegend\":true,\"x\":[0.3354317247867584],\"y\":[-0.12681156396865845],\"z\":[-0.02226545289158821],\"type\":\"scatter3d\"},{\"hovertemplate\":\"color=lords\\u003cbr\\u003e0=%{x}\\u003cbr\\u003e1=%{y}\\u003cbr\\u003e2=%{z}\\u003cextra\\u003e\\u003c\\u002fextra\\u003e\",\"legendgroup\":\"lords\",\"marker\":{\"color\":\"#FF97FF\",\"symbol\":\"circle\"},\"mode\":\"markers\",\"name\":\"lords\",\"scene\":\"scene\",\"showlegend\":true,\"x\":[-0.478358656167984],\"y\":[0.5865813493728638],\"z\":[0.35933753848075867],\"type\":\"scatter3d\"},{\"hovertemplate\":\"color=soon\\u003cbr\\u003e0=%{x}\\u003cbr\\u003e1=%{y}\\u003cbr\\u003e2=%{z}\\u003cextra\\u003e\\u003c\\u002fextra\\u003e\",\"legendgroup\":\"soon\",\"marker\":{\"color\":\"#FECB52\",\"symbol\":\"circle\"},\"mode\":\"markers\",\"name\":\"soon\",\"scene\":\"scene\",\"showlegend\":true,\"x\":[-0.3876853585243225],\"y\":[-0.29086005687713623],\"z\":[0.3304626941680908],\"type\":\"scatter3d\"},{\"hovertemplate\":\"color=sound\\u003cbr\\u003e0=%{x}\\u003cbr\\u003e1=%{y}\\u003cbr\\u003e2=%{z}\\u003cextra\\u003e\\u003c\\u002fextra\\u003e\",\"legendgroup\":\"sound\",\"marker\":{\"color\":\"#636efa\",\"symbol\":\"circle\"},\"mode\":\"markers\",\"name\":\"sound\",\"scene\":\"scene\",\"showlegend\":true,\"x\":[0.5172858834266663],\"y\":[-0.36296799778938293],\"z\":[-0.04580177739262581],\"type\":\"scatter3d\"},{\"hovertemplate\":\"color=killed\\u003cbr\\u003e0=%{x}\\u003cbr\\u003e1=%{y}\\u003cbr\\u003e2=%{z}\\u003cextra\\u003e\\u003c\\u002fextra\\u003e\",\"legendgroup\":\"killed\",\"marker\":{\"color\":\"#EF553B\",\"symbol\":\"circle\"},\"mode\":\"markers\",\"name\":\"killed\",\"scene\":\"scene\",\"showlegend\":true,\"x\":[-0.5980623364448547],\"y\":[0.09081429243087769],\"z\":[0.11062876880168915],\"type\":\"scatter3d\"},{\"hovertemplate\":\"color=thing\\u003cbr\\u003e0=%{x}\\u003cbr\\u003e1=%{y}\\u003cbr\\u003e2=%{z}\\u003cextra\\u003e\\u003c\\u002fextra\\u003e\",\"legendgroup\":\"thing\",\"marker\":{\"color\":\"#00cc96\",\"symbol\":\"circle\"},\"mode\":\"markers\",\"name\":\"thing\",\"scene\":\"scene\",\"showlegend\":true,\"x\":[-0.3855059742927551],\"y\":[-0.3772121071815491],\"z\":[0.18111205101013184],\"type\":\"scatter3d\"},{\"hovertemplate\":\"color=life\\u003cbr\\u003e0=%{x}\\u003cbr\\u003e1=%{y}\\u003cbr\\u003e2=%{z}\\u003cextra\\u003e\\u003c\\u002fextra\\u003e\",\"legendgroup\":\"life\",\"marker\":{\"color\":\"#ab63fa\",\"symbol\":\"circle\"},\"mode\":\"markers\",\"name\":\"life\",\"scene\":\"scene\",\"showlegend\":true,\"x\":[-0.5430384874343872],\"y\":[-0.1982387751340866],\"z\":[0.3538365662097931],\"type\":\"scatter3d\"},{\"hovertemplate\":\"color=died\\u003cbr\\u003e0=%{x}\\u003cbr\\u003e1=%{y}\\u003cbr\\u003e2=%{z}\\u003cextra\\u003e\\u003c\\u002fextra\\u003e\",\"legendgroup\":\"died\",\"marker\":{\"color\":\"#FFA15A\",\"symbol\":\"circle\"},\"mode\":\"markers\",\"name\":\"died\",\"scene\":\"scene\",\"showlegend\":true,\"x\":[-0.43466508388519287],\"y\":[0.3267270028591156],\"z\":[0.3026111423969269],\"type\":\"scatter3d\"},{\"hovertemplate\":\"color=big\\u003cbr\\u003e0=%{x}\\u003cbr\\u003e1=%{y}\\u003cbr\\u003e2=%{z}\\u003cextra\\u003e\\u003c\\u002fextra\\u003e\",\"legendgroup\":\"big\",\"marker\":{\"color\":\"#19d3f3\",\"symbol\":\"circle\"},\"mode\":\"markers\",\"name\":\"big\",\"scene\":\"scene\",\"showlegend\":true,\"x\":[0.4719948470592499],\"y\":[0.001568036270327866],\"z\":[-0.03292543813586235],\"type\":\"scatter3d\"},{\"hovertemplate\":\"color=help\\u003cbr\\u003e0=%{x}\\u003cbr\\u003e1=%{y}\\u003cbr\\u003e2=%{z}\\u003cextra\\u003e\\u003c\\u002fextra\\u003e\",\"legendgroup\":\"help\",\"marker\":{\"color\":\"#FF6692\",\"symbol\":\"circle\"},\"mode\":\"markers\",\"name\":\"help\",\"scene\":\"scene\",\"showlegend\":true,\"x\":[-0.5190492868423462],\"y\":[-0.2371097207069397],\"z\":[0.032849811017513275],\"type\":\"scatter3d\"},{\"hovertemplate\":\"color=along\\u003cbr\\u003e0=%{x}\\u003cbr\\u003e1=%{y}\\u003cbr\\u003e2=%{z}\\u003cextra\\u003e\\u003c\\u002fextra\\u003e\",\"legendgroup\":\"along\",\"marker\":{\"color\":\"#B6E880\",\"symbol\":\"circle\"},\"mode\":\"markers\",\"name\":\"along\",\"scene\":\"scene\",\"showlegend\":true,\"x\":[0.5561218857765198],\"y\":[0.12711815536022186],\"z\":[0.40978312492370605],\"type\":\"scatter3d\"},{\"hovertemplate\":\"color=word\\u003cbr\\u003e0=%{x}\\u003cbr\\u003e1=%{y}\\u003cbr\\u003e2=%{z}\\u003cextra\\u003e\\u003c\\u002fextra\\u003e\",\"legendgroup\":\"word\",\"marker\":{\"color\":\"#FF97FF\",\"symbol\":\"circle\"},\"mode\":\"markers\",\"name\":\"word\",\"scene\":\"scene\",\"showlegend\":true,\"x\":[-0.5764874815940857],\"y\":[0.0025428018998354673],\"z\":[0.011057063937187195],\"type\":\"scatter3d\"},{\"hovertemplate\":\"color=bloody\\u003cbr\\u003e0=%{x}\\u003cbr\\u003e1=%{y}\\u003cbr\\u003e2=%{z}\\u003cextra\\u003e\\u003c\\u002fextra\\u003e\",\"legendgroup\":\"bloody\",\"marker\":{\"color\":\"#FECB52\",\"symbol\":\"circle\"},\"mode\":\"markers\",\"name\":\"bloody\",\"scene\":\"scene\",\"showlegend\":true,\"x\":[-0.05120263993740082],\"y\":[-0.11807339638471603],\"z\":[0.1772122085094452],\"type\":\"scatter3d\"},{\"hovertemplate\":\"color=rode\\u003cbr\\u003e0=%{x}\\u003cbr\\u003e1=%{y}\\u003cbr\\u003e2=%{z}\\u003cextra\\u003e\\u003c\\u002fextra\\u003e\",\"legendgroup\":\"rode\",\"marker\":{\"color\":\"#636efa\",\"symbol\":\"circle\"},\"mode\":\"markers\",\"name\":\"rode\",\"scene\":\"scene\",\"showlegend\":true,\"x\":[0.4105711877346039],\"y\":[0.3240324556827545],\"z\":[0.2410786896944046],\"type\":\"scatter3d\"},{\"hovertemplate\":\"color=best\\u003cbr\\u003e0=%{x}\\u003cbr\\u003e1=%{y}\\u003cbr\\u003e2=%{z}\\u003cextra\\u003e\\u003c\\u002fextra\\u003e\",\"legendgroup\":\"best\",\"marker\":{\"color\":\"#EF553B\",\"symbol\":\"circle\"},\"mode\":\"markers\",\"name\":\"best\",\"scene\":\"scene\",\"showlegend\":true,\"x\":[-0.4869127869606018],\"y\":[-0.2985819876194],\"z\":[0.19753164052963257],\"type\":\"scatter3d\"},{\"hovertemplate\":\"color=tried\\u003cbr\\u003e0=%{x}\\u003cbr\\u003e1=%{y}\\u003cbr\\u003e2=%{z}\\u003cextra\\u003e\\u003c\\u002fextra\\u003e\",\"legendgroup\":\"tried\",\"marker\":{\"color\":\"#00cc96\",\"symbol\":\"circle\"},\"mode\":\"markers\",\"name\":\"tried\",\"scene\":\"scene\",\"showlegend\":true,\"x\":[0.020056268200278282],\"y\":[-0.4191252291202545],\"z\":[-0.0604708194732666],\"type\":\"scatter3d\"},{\"hovertemplate\":\"color=going\\u003cbr\\u003e0=%{x}\\u003cbr\\u003e1=%{y}\\u003cbr\\u003e2=%{z}\\u003cextra\\u003e\\u003c\\u002fextra\\u003e\",\"legendgroup\":\"going\",\"marker\":{\"color\":\"#ab63fa\",\"symbol\":\"circle\"},\"mode\":\"markers\",\"name\":\"going\",\"scene\":\"scene\",\"showlegend\":true,\"x\":[-0.37442758679389954],\"y\":[-0.4275514483451843],\"z\":[0.09674310684204102],\"type\":\"scatter3d\"},{\"hovertemplate\":\"color=mean\\u003cbr\\u003e0=%{x}\\u003cbr\\u003e1=%{y}\\u003cbr\\u003e2=%{z}\\u003cextra\\u003e\\u003c\\u002fextra\\u003e\",\"legendgroup\":\"mean\",\"marker\":{\"color\":\"#FFA15A\",\"symbol\":\"circle\"},\"mode\":\"markers\",\"name\":\"mean\",\"scene\":\"scene\",\"showlegend\":true,\"x\":[-0.6565046906471252],\"y\":[-0.07571733742952347],\"z\":[0.15187162160873413],\"type\":\"scatter3d\"},{\"hovertemplate\":\"color=hodor\\u003cbr\\u003e0=%{x}\\u003cbr\\u003e1=%{y}\\u003cbr\\u003e2=%{z}\\u003cextra\\u003e\\u003c\\u002fextra\\u003e\",\"legendgroup\":\"hodor\",\"marker\":{\"color\":\"#19d3f3\",\"symbol\":\"circle\"},\"mode\":\"markers\",\"name\":\"hodor\",\"scene\":\"scene\",\"showlegend\":true,\"x\":[0.19794030487537384],\"y\":[-0.4122622609138489],\"z\":[-0.29106405377388],\"type\":\"scatter3d\"},{\"hovertemplate\":\"color=rest\\u003cbr\\u003e0=%{x}\\u003cbr\\u003e1=%{y}\\u003cbr\\u003e2=%{z}\\u003cextra\\u003e\\u003c\\u002fextra\\u003e\",\"legendgroup\":\"rest\",\"marker\":{\"color\":\"#FF6692\",\"symbol\":\"circle\"},\"mode\":\"markers\",\"name\":\"rest\",\"scene\":\"scene\",\"showlegend\":true,\"x\":[-0.28966501355171204],\"y\":[-0.04894491285085678],\"z\":[0.27572745084762573],\"type\":\"scatter3d\"},{\"hovertemplate\":\"color=close\\u003cbr\\u003e0=%{x}\\u003cbr\\u003e1=%{y}\\u003cbr\\u003e2=%{z}\\u003cextra\\u003e\\u003c\\u002fextra\\u003e\",\"legendgroup\":\"close\",\"marker\":{\"color\":\"#B6E880\",\"symbol\":\"circle\"},\"mode\":\"markers\",\"name\":\"close\",\"scene\":\"scene\",\"showlegend\":true,\"x\":[0.43975138664245605],\"y\":[-0.20899327099323273],\"z\":[0.007958369329571724],\"type\":\"scatter3d\"},{\"hovertemplate\":\"color=sea\\u003cbr\\u003e0=%{x}\\u003cbr\\u003e1=%{y}\\u003cbr\\u003e2=%{z}\\u003cextra\\u003e\\u003c\\u002fextra\\u003e\",\"legendgroup\":\"sea\",\"marker\":{\"color\":\"#FF97FF\",\"symbol\":\"circle\"},\"mode\":\"markers\",\"name\":\"sea\",\"scene\":\"scene\",\"showlegend\":true,\"x\":[0.32192546129226685],\"y\":[0.2142489105463028],\"z\":[0.5792730450630188],\"type\":\"scatter3d\"},{\"hovertemplate\":\"color=cut\\u003cbr\\u003e0=%{x}\\u003cbr\\u003e1=%{y}\\u003cbr\\u003e2=%{z}\\u003cextra\\u003e\\u003c\\u002fextra\\u003e\",\"legendgroup\":\"cut\",\"marker\":{\"color\":\"#FECB52\",\"symbol\":\"circle\"},\"mode\":\"markers\",\"name\":\"cut\",\"scene\":\"scene\",\"showlegend\":true,\"x\":[0.3204836845397949],\"y\":[-0.0480024628341198],\"z\":[0.04608273133635521],\"type\":\"scatter3d\"},{\"hovertemplate\":\"color=smile\\u003cbr\\u003e0=%{x}\\u003cbr\\u003e1=%{y}\\u003cbr\\u003e2=%{z}\\u003cextra\\u003e\\u003c\\u002fextra\\u003e\",\"legendgroup\":\"smile\",\"marker\":{\"color\":\"#636efa\",\"symbol\":\"circle\"},\"mode\":\"markers\",\"name\":\"smile\",\"scene\":\"scene\",\"showlegend\":true,\"x\":[-0.005945287179201841],\"y\":[-0.1146855279803276],\"z\":[-0.5380306243896484],\"type\":\"scatter3d\"},{\"hovertemplate\":\"color=silver\\u003cbr\\u003e0=%{x}\\u003cbr\\u003e1=%{y}\\u003cbr\\u003e2=%{z}\\u003cextra\\u003e\\u003c\\u002fextra\\u003e\",\"legendgroup\":\"silver\",\"marker\":{\"color\":\"#EF553B\",\"symbol\":\"circle\"},\"mode\":\"markers\",\"name\":\"silver\",\"scene\":\"scene\",\"showlegend\":true,\"x\":[0.6236832141876221],\"y\":[0.26547756791114807],\"z\":[-0.0006269125151447952],\"type\":\"scatter3d\"},{\"hovertemplate\":\"color=river\\u003cbr\\u003e0=%{x}\\u003cbr\\u003e1=%{y}\\u003cbr\\u003e2=%{z}\\u003cextra\\u003e\\u003c\\u002fextra\\u003e\",\"legendgroup\":\"river\",\"marker\":{\"color\":\"#00cc96\",\"symbol\":\"circle\"},\"mode\":\"markers\",\"name\":\"river\",\"scene\":\"scene\",\"showlegend\":true,\"x\":[0.504142701625824],\"y\":[0.05682176724076271],\"z\":[0.39355042576789856],\"type\":\"scatter3d\"},{\"hovertemplate\":\"color=open\\u003cbr\\u003e0=%{x}\\u003cbr\\u003e1=%{y}\\u003cbr\\u003e2=%{z}\\u003cextra\\u003e\\u003c\\u002fextra\\u003e\",\"legendgroup\":\"open\",\"marker\":{\"color\":\"#ab63fa\",\"symbol\":\"circle\"},\"mode\":\"markers\",\"name\":\"open\",\"scene\":\"scene\",\"showlegend\":true,\"x\":[0.5950775146484375],\"y\":[-0.025056999176740646],\"z\":[-0.020958203822374344],\"type\":\"scatter3d\"},{\"hovertemplate\":\"color=thousand\\u003cbr\\u003e0=%{x}\\u003cbr\\u003e1=%{y}\\u003cbr\\u003e2=%{z}\\u003cextra\\u003e\\u003c\\u002fextra\\u003e\",\"legendgroup\":\"thousand\",\"marker\":{\"color\":\"#FFA15A\",\"symbol\":\"circle\"},\"mode\":\"markers\",\"name\":\"thousand\",\"scene\":\"scene\",\"showlegend\":true,\"x\":[-0.045741815119981766],\"y\":[0.3071109652519226],\"z\":[0.7390696406364441],\"type\":\"scatter3d\"},{\"hovertemplate\":\"color=jorah\\u003cbr\\u003e0=%{x}\\u003cbr\\u003e1=%{y}\\u003cbr\\u003e2=%{z}\\u003cextra\\u003e\\u003c\\u002fextra\\u003e\",\"legendgroup\":\"jorah\",\"marker\":{\"color\":\"#19d3f3\",\"symbol\":\"circle\"},\"mode\":\"markers\",\"name\":\"jorah\",\"scene\":\"scene\",\"showlegend\":true,\"x\":[-0.17529156804084778],\"y\":[0.3038528859615326],\"z\":[-0.3187876343727112],\"type\":\"scatter3d\"},{\"hovertemplate\":\"color=began\\u003cbr\\u003e0=%{x}\\u003cbr\\u003e1=%{y}\\u003cbr\\u003e2=%{z}\\u003cextra\\u003e\\u003c\\u002fextra\\u003e\",\"legendgroup\":\"began\",\"marker\":{\"color\":\"#FF6692\",\"symbol\":\"circle\"},\"mode\":\"markers\",\"name\":\"began\",\"scene\":\"scene\",\"showlegend\":true,\"x\":[0.43113085627555847],\"y\":[0.003223886713385582],\"z\":[0.019313467666506767],\"type\":\"scatter3d\"},{\"hovertemplate\":\"color=new\\u003cbr\\u003e0=%{x}\\u003cbr\\u003e1=%{y}\\u003cbr\\u003e2=%{z}\\u003cextra\\u003e\\u003c\\u002fextra\\u003e\",\"legendgroup\":\"new\",\"marker\":{\"color\":\"#B6E880\",\"symbol\":\"circle\"},\"mode\":\"markers\",\"name\":\"new\",\"scene\":\"scene\",\"showlegend\":true,\"x\":[-0.35084640979766846],\"y\":[0.32254862785339355],\"z\":[0.23345161974430084],\"type\":\"scatter3d\"},{\"hovertemplate\":\"color=got\\u003cbr\\u003e0=%{x}\\u003cbr\\u003e1=%{y}\\u003cbr\\u003e2=%{z}\\u003cextra\\u003e\\u003c\\u002fextra\\u003e\",\"legendgroup\":\"got\",\"marker\":{\"color\":\"#FF97FF\",\"symbol\":\"circle\"},\"mode\":\"markers\",\"name\":\"got\",\"scene\":\"scene\",\"showlegend\":true,\"x\":[-0.008778571151196957],\"y\":[-0.35732004046440125],\"z\":[0.019605472683906555],\"type\":\"scatter3d\"},{\"hovertemplate\":\"color=daughter\\u003cbr\\u003e0=%{x}\\u003cbr\\u003e1=%{y}\\u003cbr\\u003e2=%{z}\\u003cextra\\u003e\\u003c\\u002fextra\\u003e\",\"legendgroup\":\"daughter\",\"marker\":{\"color\":\"#FECB52\",\"symbol\":\"circle\"},\"mode\":\"markers\",\"name\":\"daughter\",\"scene\":\"scene\",\"showlegend\":true,\"x\":[-0.5780887603759766],\"y\":[0.5746831297874451],\"z\":[-0.07351864129304886],\"type\":\"scatter3d\"},{\"hovertemplate\":\"color=uncle\\u003cbr\\u003e0=%{x}\\u003cbr\\u003e1=%{y}\\u003cbr\\u003e2=%{z}\\u003cextra\\u003e\\u003c\\u002fextra\\u003e\",\"legendgroup\":\"uncle\",\"marker\":{\"color\":\"#636efa\",\"symbol\":\"circle\"},\"mode\":\"markers\",\"name\":\"uncle\",\"scene\":\"scene\",\"showlegend\":true,\"x\":[-0.6659141182899475],\"y\":[0.2964020371437073],\"z\":[-0.05218704789876938],\"type\":\"scatter3d\"},{\"hovertemplate\":\"color=landing\\u003cbr\\u003e0=%{x}\\u003cbr\\u003e1=%{y}\\u003cbr\\u003e2=%{z}\\u003cextra\\u003e\\u003c\\u002fextra\\u003e\",\"legendgroup\":\"landing\",\"marker\":{\"color\":\"#EF553B\",\"symbol\":\"circle\"},\"mode\":\"markers\",\"name\":\"landing\",\"scene\":\"scene\",\"showlegend\":true,\"x\":[-0.3983136713504791],\"y\":[0.4276907444000244],\"z\":[0.35497161746025085],\"type\":\"scatter3d\"},{\"hovertemplate\":\"color=swords\\u003cbr\\u003e0=%{x}\\u003cbr\\u003e1=%{y}\\u003cbr\\u003e2=%{z}\\u003cextra\\u003e\\u003c\\u002fextra\\u003e\",\"legendgroup\":\"swords\",\"marker\":{\"color\":\"#00cc96\",\"symbol\":\"circle\"},\"mode\":\"markers\",\"name\":\"swords\",\"scene\":\"scene\",\"showlegend\":true,\"x\":[-0.15790510177612305],\"y\":[0.24724726378917694],\"z\":[0.5229097008705139],\"type\":\"scatter3d\"},{\"hovertemplate\":\"color=feel\\u003cbr\\u003e0=%{x}\\u003cbr\\u003e1=%{y}\\u003cbr\\u003e2=%{z}\\u003cextra\\u003e\\u003c\\u002fextra\\u003e\",\"legendgroup\":\"feel\",\"marker\":{\"color\":\"#ab63fa\",\"symbol\":\"circle\"},\"mode\":\"markers\",\"name\":\"feel\",\"scene\":\"scene\",\"showlegend\":true,\"x\":[0.27451595664024353],\"y\":[-0.566297173500061],\"z\":[-0.017953447997570038],\"type\":\"scatter3d\"},{\"hovertemplate\":\"color=laughed\\u003cbr\\u003e0=%{x}\\u003cbr\\u003e1=%{y}\\u003cbr\\u003e2=%{z}\\u003cextra\\u003e\\u003c\\u002fextra\\u003e\",\"legendgroup\":\"laughed\",\"marker\":{\"color\":\"#FFA15A\",\"symbol\":\"circle\"},\"mode\":\"markers\",\"name\":\"laughed\",\"scene\":\"scene\",\"showlegend\":true,\"x\":[-0.09837451577186584],\"y\":[0.035511378198862076],\"z\":[-0.3316132724285126],\"type\":\"scatter3d\"},{\"hovertemplate\":\"color=varys\\u003cbr\\u003e0=%{x}\\u003cbr\\u003e1=%{y}\\u003cbr\\u003e2=%{z}\\u003cextra\\u003e\\u003c\\u002fextra\\u003e\",\"legendgroup\":\"varys\",\"marker\":{\"color\":\"#19d3f3\",\"symbol\":\"circle\"},\"mode\":\"markers\",\"name\":\"varys\",\"scene\":\"scene\",\"showlegend\":true,\"x\":[-0.4978201389312744],\"y\":[0.15523049235343933],\"z\":[-0.33727601170539856],\"type\":\"scatter3d\"},{\"hovertemplate\":\"color=bed\\u003cbr\\u003e0=%{x}\\u003cbr\\u003e1=%{y}\\u003cbr\\u003e2=%{z}\\u003cextra\\u003e\\u003c\\u002fextra\\u003e\",\"legendgroup\":\"bed\",\"marker\":{\"color\":\"#FF6692\",\"symbol\":\"circle\"},\"mode\":\"markers\",\"name\":\"bed\",\"scene\":\"scene\",\"showlegend\":true,\"x\":[-0.0027081514708697796],\"y\":[-0.22313669323921204],\"z\":[0.08238930255174637],\"type\":\"scatter3d\"},{\"hovertemplate\":\"color=fell\\u003cbr\\u003e0=%{x}\\u003cbr\\u003e1=%{y}\\u003cbr\\u003e2=%{z}\\u003cextra\\u003e\\u003c\\u002fextra\\u003e\",\"legendgroup\":\"fell\",\"marker\":{\"color\":\"#B6E880\",\"symbol\":\"circle\"},\"mode\":\"markers\",\"name\":\"fell\",\"scene\":\"scene\",\"showlegend\":true,\"x\":[0.5452897548675537],\"y\":[0.16921217739582062],\"z\":[-0.05204583704471588],\"type\":\"scatter3d\"},{\"hovertemplate\":\"color=wife\\u003cbr\\u003e0=%{x}\\u003cbr\\u003e1=%{y}\\u003cbr\\u003e2=%{z}\\u003cextra\\u003e\\u003c\\u002fextra\\u003e\",\"legendgroup\":\"wife\",\"marker\":{\"color\":\"#FF97FF\",\"symbol\":\"circle\"},\"mode\":\"markers\",\"name\":\"wife\",\"scene\":\"scene\",\"showlegend\":true,\"x\":[-0.6427114009857178],\"y\":[0.39560532569885254],\"z\":[-0.004104236606508493],\"type\":\"scatter3d\"},{\"hovertemplate\":\"color=pale\\u003cbr\\u003e0=%{x}\\u003cbr\\u003e1=%{y}\\u003cbr\\u003e2=%{z}\\u003cextra\\u003e\\u003c\\u002fextra\\u003e\",\"legendgroup\":\"pale\",\"marker\":{\"color\":\"#FECB52\",\"symbol\":\"circle\"},\"mode\":\"markers\",\"name\":\"pale\",\"scene\":\"scene\",\"showlegend\":true,\"x\":[0.7028213739395142],\"y\":[0.12227639555931091],\"z\":[-0.040166668593883514],\"type\":\"scatter3d\"},{\"hovertemplate\":\"color=heavy\\u003cbr\\u003e0=%{x}\\u003cbr\\u003e1=%{y}\\u003cbr\\u003e2=%{z}\\u003cextra\\u003e\\u003c\\u002fextra\\u003e\",\"legendgroup\":\"heavy\",\"marker\":{\"color\":\"#636efa\",\"symbol\":\"circle\"},\"mode\":\"markers\",\"name\":\"heavy\",\"scene\":\"scene\",\"showlegend\":true,\"x\":[0.7282123565673828],\"y\":[0.13723061978816986],\"z\":[0.030333522707223892],\"type\":\"scatter3d\"},{\"hovertemplate\":\"color=fool\\u003cbr\\u003e0=%{x}\\u003cbr\\u003e1=%{y}\\u003cbr\\u003e2=%{z}\\u003cextra\\u003e\\u003c\\u002fextra\\u003e\",\"legendgroup\":\"fool\",\"marker\":{\"color\":\"#EF553B\",\"symbol\":\"circle\"},\"mode\":\"markers\",\"name\":\"fool\",\"scene\":\"scene\",\"showlegend\":true,\"x\":[-0.4555138647556305],\"y\":[-0.11679096519947052],\"z\":[-0.16432365775108337],\"type\":\"scatter3d\"},{\"hovertemplate\":\"color=honor\\u003cbr\\u003e0=%{x}\\u003cbr\\u003e1=%{y}\\u003cbr\\u003e2=%{z}\\u003cextra\\u003e\\u003c\\u002fextra\\u003e\",\"legendgroup\":\"honor\",\"marker\":{\"color\":\"#00cc96\",\"symbol\":\"circle\"},\"mode\":\"markers\",\"name\":\"honor\",\"scene\":\"scene\",\"showlegend\":true,\"x\":[-0.6782690286636353],\"y\":[0.2959817945957184],\"z\":[0.12389975786209106],\"type\":\"scatter3d\"},{\"hovertemplate\":\"color=bastard\\u003cbr\\u003e0=%{x}\\u003cbr\\u003e1=%{y}\\u003cbr\\u003e2=%{z}\\u003cextra\\u003e\\u003c\\u002fextra\\u003e\",\"legendgroup\":\"bastard\",\"marker\":{\"color\":\"#ab63fa\",\"symbol\":\"circle\"},\"mode\":\"markers\",\"name\":\"bastard\",\"scene\":\"scene\",\"showlegend\":true,\"x\":[-0.6112076044082642],\"y\":[0.28928425908088684],\"z\":[-0.01823008619248867],\"type\":\"scatter3d\"},{\"hovertemplate\":\"color=bring\\u003cbr\\u003e0=%{x}\\u003cbr\\u003e1=%{y}\\u003cbr\\u003e2=%{z}\\u003cextra\\u003e\\u003c\\u002fextra\\u003e\",\"legendgroup\":\"bring\",\"marker\":{\"color\":\"#FFA15A\",\"symbol\":\"circle\"},\"mode\":\"markers\",\"name\":\"bring\",\"scene\":\"scene\",\"showlegend\":true,\"x\":[-0.5833069682121277],\"y\":[-0.03838688135147095],\"z\":[0.14928729832172394],\"type\":\"scatter3d\"},{\"hovertemplate\":\"color=rock\\u003cbr\\u003e0=%{x}\\u003cbr\\u003e1=%{y}\\u003cbr\\u003e2=%{z}\\u003cextra\\u003e\\u003c\\u002fextra\\u003e\",\"legendgroup\":\"rock\",\"marker\":{\"color\":\"#19d3f3\",\"symbol\":\"circle\"},\"mode\":\"markers\",\"name\":\"rock\",\"scene\":\"scene\",\"showlegend\":true,\"x\":[0.1161193922162056],\"y\":[0.47890549898147583],\"z\":[0.2891678512096405],\"type\":\"scatter3d\"},{\"hovertemplate\":\"color=table\\u003cbr\\u003e0=%{x}\\u003cbr\\u003e1=%{y}\\u003cbr\\u003e2=%{z}\\u003cextra\\u003e\\u003c\\u002fextra\\u003e\",\"legendgroup\":\"table\",\"marker\":{\"color\":\"#FF6692\",\"symbol\":\"circle\"},\"mode\":\"markers\",\"name\":\"table\",\"scene\":\"scene\",\"showlegend\":true,\"x\":[0.4227849841117859],\"y\":[0.45157018303871155],\"z\":[-0.09938209503889084],\"type\":\"scatter3d\"},{\"hovertemplate\":\"color=love\\u003cbr\\u003e0=%{x}\\u003cbr\\u003e1=%{y}\\u003cbr\\u003e2=%{z}\\u003cextra\\u003e\\u003c\\u002fextra\\u003e\",\"legendgroup\":\"love\",\"marker\":{\"color\":\"#B6E880\",\"symbol\":\"circle\"},\"mode\":\"markers\",\"name\":\"love\",\"scene\":\"scene\",\"showlegend\":true,\"x\":[-0.684029221534729],\"y\":[-0.12289286404848099],\"z\":[-0.003493616357445717],\"type\":\"scatter3d\"},{\"hovertemplate\":\"color=without\\u003cbr\\u003e0=%{x}\\u003cbr\\u003e1=%{y}\\u003cbr\\u003e2=%{z}\\u003cextra\\u003e\\u003c\\u002fextra\\u003e\",\"legendgroup\":\"without\",\"marker\":{\"color\":\"#FF97FF\",\"symbol\":\"circle\"},\"mode\":\"markers\",\"name\":\"without\",\"scene\":\"scene\",\"showlegend\":true,\"x\":[-0.43402448296546936],\"y\":[-0.15495634078979492],\"z\":[0.22154991328716278],\"type\":\"scatter3d\"},{\"hovertemplate\":\"color=smiled\\u003cbr\\u003e0=%{x}\\u003cbr\\u003e1=%{y}\\u003cbr\\u003e2=%{z}\\u003cextra\\u003e\\u003c\\u002fextra\\u003e\",\"legendgroup\":\"smiled\",\"marker\":{\"color\":\"#FECB52\",\"symbol\":\"circle\"},\"mode\":\"markers\",\"name\":\"smiled\",\"scene\":\"scene\",\"showlegend\":true,\"x\":[-0.05469159036874771],\"y\":[0.03738722205162048],\"z\":[-0.46150216460227966],\"type\":\"scatter3d\"},{\"hovertemplate\":\"color=ride\\u003cbr\\u003e0=%{x}\\u003cbr\\u003e1=%{y}\\u003cbr\\u003e2=%{z}\\u003cextra\\u003e\\u003c\\u002fextra\\u003e\",\"legendgroup\":\"ride\",\"marker\":{\"color\":\"#636efa\",\"symbol\":\"circle\"},\"mode\":\"markers\",\"name\":\"ride\",\"scene\":\"scene\",\"showlegend\":true,\"x\":[-0.2844226360321045],\"y\":[-0.28418582677841187],\"z\":[0.47623759508132935],\"type\":\"scatter3d\"},{\"hovertemplate\":\"color=pulled\\u003cbr\\u003e0=%{x}\\u003cbr\\u003e1=%{y}\\u003cbr\\u003e2=%{z}\\u003cextra\\u003e\\u003c\\u002fextra\\u003e\",\"legendgroup\":\"pulled\",\"marker\":{\"color\":\"#EF553B\",\"symbol\":\"circle\"},\"mode\":\"markers\",\"name\":\"pulled\",\"scene\":\"scene\",\"showlegend\":true,\"x\":[0.6416933536529541],\"y\":[0.09792604297399521],\"z\":[-0.15603210031986237],\"type\":\"scatter3d\"},{\"hovertemplate\":\"color=moved\\u003cbr\\u003e0=%{x}\\u003cbr\\u003e1=%{y}\\u003cbr\\u003e2=%{z}\\u003cextra\\u003e\\u003c\\u002fextra\\u003e\",\"legendgroup\":\"moved\",\"marker\":{\"color\":\"#00cc96\",\"symbol\":\"circle\"},\"mode\":\"markers\",\"name\":\"moved\",\"scene\":\"scene\",\"showlegend\":true,\"x\":[0.5327072739601135],\"y\":[0.0466567724943161],\"z\":[-0.01709100790321827],\"type\":\"scatter3d\"},{\"hovertemplate\":\"color=free\\u003cbr\\u003e0=%{x}\\u003cbr\\u003e1=%{y}\\u003cbr\\u003e2=%{z}\\u003cextra\\u003e\\u003c\\u002fextra\\u003e\",\"legendgroup\":\"free\",\"marker\":{\"color\":\"#ab63fa\",\"symbol\":\"circle\"},\"mode\":\"markers\",\"name\":\"free\",\"scene\":\"scene\",\"showlegend\":true,\"x\":[-0.014652729965746403],\"y\":[-0.08837972581386566],\"z\":[0.30287447571754456],\"type\":\"scatter3d\"},{\"hovertemplate\":\"color=thick\\u003cbr\\u003e0=%{x}\\u003cbr\\u003e1=%{y}\\u003cbr\\u003e2=%{z}\\u003cextra\\u003e\\u003c\\u002fextra\\u003e\",\"legendgroup\":\"thick\",\"marker\":{\"color\":\"#FFA15A\",\"symbol\":\"circle\"},\"mode\":\"markers\",\"name\":\"thick\",\"scene\":\"scene\",\"showlegend\":true,\"x\":[0.6880293488502502],\"y\":[0.060695819556713104],\"z\":[0.00015613940195180476],\"type\":\"scatter3d\"},{\"hovertemplate\":\"color=oh\\u003cbr\\u003e0=%{x}\\u003cbr\\u003e1=%{y}\\u003cbr\\u003e2=%{z}\\u003cextra\\u003e\\u003c\\u002fextra\\u003e\",\"legendgroup\":\"oh\",\"marker\":{\"color\":\"#19d3f3\",\"symbol\":\"circle\"},\"mode\":\"markers\",\"name\":\"oh\",\"scene\":\"scene\",\"showlegend\":true,\"x\":[-0.61538165807724],\"y\":[-0.13299930095672607],\"z\":[-0.10695286095142365],\"type\":\"scatter3d\"},{\"hovertemplate\":\"color=certain\\u003cbr\\u003e0=%{x}\\u003cbr\\u003e1=%{y}\\u003cbr\\u003e2=%{z}\\u003cextra\\u003e\\u003c\\u002fextra\\u003e\",\"legendgroup\":\"certain\",\"marker\":{\"color\":\"#FF6692\",\"symbol\":\"circle\"},\"mode\":\"markers\",\"name\":\"certain\",\"scene\":\"scene\",\"showlegend\":true,\"x\":[-0.5303034782409668],\"y\":[-0.23864859342575073],\"z\":[0.10668027400970459],\"type\":\"scatter3d\"},{\"hovertemplate\":\"color=sleep\\u003cbr\\u003e0=%{x}\\u003cbr\\u003e1=%{y}\\u003cbr\\u003e2=%{z}\\u003cextra\\u003e\\u003c\\u002fextra\\u003e\",\"legendgroup\":\"sleep\",\"marker\":{\"color\":\"#B6E880\",\"symbol\":\"circle\"},\"mode\":\"markers\",\"name\":\"sleep\",\"scene\":\"scene\",\"showlegend\":true,\"x\":[-0.12813089787960052],\"y\":[-0.5493484735488892],\"z\":[0.13417942821979523],\"type\":\"scatter3d\"},{\"hovertemplate\":\"color=air\\u003cbr\\u003e0=%{x}\\u003cbr\\u003e1=%{y}\\u003cbr\\u003e2=%{z}\\u003cextra\\u003e\\u003c\\u002fextra\\u003e\",\"legendgroup\":\"air\",\"marker\":{\"color\":\"#FF97FF\",\"symbol\":\"circle\"},\"mode\":\"markers\",\"name\":\"air\",\"scene\":\"scene\",\"showlegend\":true,\"x\":[0.7109195590019226],\"y\":[-0.10740455240011215],\"z\":[0.13074922561645508],\"type\":\"scatter3d\"},{\"hovertemplate\":\"color=remembered\\u003cbr\\u003e0=%{x}\\u003cbr\\u003e1=%{y}\\u003cbr\\u003e2=%{z}\\u003cextra\\u003e\\u003c\\u002fextra\\u003e\",\"legendgroup\":\"remembered\",\"marker\":{\"color\":\"#FECB52\",\"symbol\":\"circle\"},\"mode\":\"markers\",\"name\":\"remembered\",\"scene\":\"scene\",\"showlegend\":true,\"x\":[-0.09646835923194885],\"y\":[-0.2542457580566406],\"z\":[-0.019088106229901314],\"type\":\"scatter3d\"},{\"hovertemplate\":\"color=knights\\u003cbr\\u003e0=%{x}\\u003cbr\\u003e1=%{y}\\u003cbr\\u003e2=%{z}\\u003cextra\\u003e\\u003c\\u002fextra\\u003e\",\"legendgroup\":\"knights\",\"marker\":{\"color\":\"#636efa\",\"symbol\":\"circle\"},\"mode\":\"markers\",\"name\":\"knights\",\"scene\":\"scene\",\"showlegend\":true,\"x\":[-0.1598168909549713],\"y\":[0.5264491438865662],\"z\":[0.5125381350517273],\"type\":\"scatter3d\"},{\"hovertemplate\":\"color=inside\\u003cbr\\u003e0=%{x}\\u003cbr\\u003e1=%{y}\\u003cbr\\u003e2=%{z}\\u003cextra\\u003e\\u003c\\u002fextra\\u003e\",\"legendgroup\":\"inside\",\"marker\":{\"color\":\"#EF553B\",\"symbol\":\"circle\"},\"mode\":\"markers\",\"name\":\"inside\",\"scene\":\"scene\",\"showlegend\":true,\"x\":[0.5055942535400391],\"y\":[-0.20922891795635223],\"z\":[0.09006515145301819],\"type\":\"scatter3d\"},{\"hovertemplate\":\"color=deep\\u003cbr\\u003e0=%{x}\\u003cbr\\u003e1=%{y}\\u003cbr\\u003e2=%{z}\\u003cextra\\u003e\\u003c\\u002fextra\\u003e\",\"legendgroup\":\"deep\",\"marker\":{\"color\":\"#00cc96\",\"symbol\":\"circle\"},\"mode\":\"markers\",\"name\":\"deep\",\"scene\":\"scene\",\"showlegend\":true,\"x\":[0.6598153114318848],\"y\":[0.010450863279402256],\"z\":[-0.004337237682193518],\"type\":\"scatter3d\"},{\"hovertemplate\":\"color=part\\u003cbr\\u003e0=%{x}\\u003cbr\\u003e1=%{y}\\u003cbr\\u003e2=%{z}\\u003cextra\\u003e\\u003c\\u002fextra\\u003e\",\"legendgroup\":\"part\",\"marker\":{\"color\":\"#ab63fa\",\"symbol\":\"circle\"},\"mode\":\"markers\",\"name\":\"part\",\"scene\":\"scene\",\"showlegend\":true,\"x\":[-0.5313377380371094],\"y\":[-0.11714111268520355],\"z\":[0.2305871695280075],\"type\":\"scatter3d\"},{\"hovertemplate\":\"color=throat\\u003cbr\\u003e0=%{x}\\u003cbr\\u003e1=%{y}\\u003cbr\\u003e2=%{z}\\u003cextra\\u003e\\u003c\\u002fextra\\u003e\",\"legendgroup\":\"throat\",\"marker\":{\"color\":\"#FFA15A\",\"symbol\":\"circle\"},\"mode\":\"markers\",\"name\":\"throat\",\"scene\":\"scene\",\"showlegend\":true,\"x\":[0.5519837737083435],\"y\":[-0.06592351198196411],\"z\":[-0.27920910716056824],\"type\":\"scatter3d\"},{\"hovertemplate\":\"color=room\\u003cbr\\u003e0=%{x}\\u003cbr\\u003e1=%{y}\\u003cbr\\u003e2=%{z}\\u003cextra\\u003e\\u003c\\u002fextra\\u003e\",\"legendgroup\":\"room\",\"marker\":{\"color\":\"#19d3f3\",\"symbol\":\"circle\"},\"mode\":\"markers\",\"name\":\"room\",\"scene\":\"scene\",\"showlegend\":true,\"x\":[0.5426062941551208],\"y\":[0.194428950548172],\"z\":[0.14477623999118805],\"type\":\"scatter3d\"},{\"hovertemplate\":\"color=remember\\u003cbr\\u003e0=%{x}\\u003cbr\\u003e1=%{y}\\u003cbr\\u003e2=%{z}\\u003cextra\\u003e\\u003c\\u002fextra\\u003e\",\"legendgroup\":\"remember\",\"marker\":{\"color\":\"#FF6692\",\"symbol\":\"circle\"},\"mode\":\"markers\",\"name\":\"remember\",\"scene\":\"scene\",\"showlegend\":true,\"x\":[-0.4659903943538666],\"y\":[-0.36154529452323914],\"z\":[0.025859873741865158],\"type\":\"scatter3d\"},{\"hovertemplate\":\"color=toward\\u003cbr\\u003e0=%{x}\\u003cbr\\u003e1=%{y}\\u003cbr\\u003e2=%{z}\\u003cextra\\u003e\\u003c\\u002fextra\\u003e\",\"legendgroup\":\"toward\",\"marker\":{\"color\":\"#B6E880\",\"symbol\":\"circle\"},\"mode\":\"markers\",\"name\":\"toward\",\"scene\":\"scene\",\"showlegend\":true,\"x\":[0.6216831803321838],\"y\":[0.158034548163414],\"z\":[-0.027811015024781227],\"type\":\"scatter3d\"},{\"hovertemplate\":\"color=ground\\u003cbr\\u003e0=%{x}\\u003cbr\\u003e1=%{y}\\u003cbr\\u003e2=%{z}\\u003cextra\\u003e\\u003c\\u002fextra\\u003e\",\"legendgroup\":\"ground\",\"marker\":{\"color\":\"#FF97FF\",\"symbol\":\"circle\"},\"mode\":\"markers\",\"name\":\"ground\",\"scene\":\"scene\",\"showlegend\":true,\"x\":[0.6732217073440552],\"y\":[-0.06214063987135887],\"z\":[0.09974326193332672],\"type\":\"scatter3d\"},{\"hovertemplate\":\"color=blue\\u003cbr\\u003e0=%{x}\\u003cbr\\u003e1=%{y}\\u003cbr\\u003e2=%{z}\\u003cextra\\u003e\\u003c\\u002fextra\\u003e\",\"legendgroup\":\"blue\",\"marker\":{\"color\":\"#FECB52\",\"symbol\":\"circle\"},\"mode\":\"markers\",\"name\":\"blue\",\"scene\":\"scene\",\"showlegend\":true,\"x\":[0.682131826877594],\"y\":[0.1536308079957962],\"z\":[-0.025342892855405807],\"type\":\"scatter3d\"},{\"hovertemplate\":\"color=days\\u003cbr\\u003e0=%{x}\\u003cbr\\u003e1=%{y}\\u003cbr\\u003e2=%{z}\\u003cextra\\u003e\\u003c\\u002fextra\\u003e\",\"legendgroup\":\"days\",\"marker\":{\"color\":\"#636efa\",\"symbol\":\"circle\"},\"mode\":\"markers\",\"name\":\"days\",\"scene\":\"scene\",\"showlegend\":true,\"x\":[-0.14055117964744568],\"y\":[0.0982605591416359],\"z\":[0.6786302924156189],\"type\":\"scatter3d\"},{\"hovertemplate\":\"color=ran\\u003cbr\\u003e0=%{x}\\u003cbr\\u003e1=%{y}\\u003cbr\\u003e2=%{z}\\u003cextra\\u003e\\u003c\\u002fextra\\u003e\",\"legendgroup\":\"ran\",\"marker\":{\"color\":\"#EF553B\",\"symbol\":\"circle\"},\"mode\":\"markers\",\"name\":\"ran\",\"scene\":\"scene\",\"showlegend\":true,\"x\":[0.6340682506561279],\"y\":[-0.07035225629806519],\"z\":[-0.030269766226410866],\"type\":\"scatter3d\"},{\"hovertemplate\":\"color=together\\u003cbr\\u003e0=%{x}\\u003cbr\\u003e1=%{y}\\u003cbr\\u003e2=%{z}\\u003cextra\\u003e\\u003c\\u002fextra\\u003e\",\"legendgroup\":\"together\",\"marker\":{\"color\":\"#00cc96\",\"symbol\":\"circle\"},\"mode\":\"markers\",\"name\":\"together\",\"scene\":\"scene\",\"showlegend\":true,\"x\":[0.40018942952156067],\"y\":[0.02443987876176834],\"z\":[0.21262548863887787],\"type\":\"scatter3d\"},{\"hovertemplate\":\"color=war\\u003cbr\\u003e0=%{x}\\u003cbr\\u003e1=%{y}\\u003cbr\\u003e2=%{z}\\u003cextra\\u003e\\u003c\\u002fextra\\u003e\",\"legendgroup\":\"war\",\"marker\":{\"color\":\"#ab63fa\",\"symbol\":\"circle\"},\"mode\":\"markers\",\"name\":\"war\",\"scene\":\"scene\",\"showlegend\":true,\"x\":[-0.5996595025062561],\"y\":[0.12960687279701233],\"z\":[0.38303491473197937],\"type\":\"scatter3d\"},{\"hovertemplate\":\"color=reached\\u003cbr\\u003e0=%{x}\\u003cbr\\u003e1=%{y}\\u003cbr\\u003e2=%{z}\\u003cextra\\u003e\\u003c\\u002fextra\\u003e\",\"legendgroup\":\"reached\",\"marker\":{\"color\":\"#FFA15A\",\"symbol\":\"circle\"},\"mode\":\"markers\",\"name\":\"reached\",\"scene\":\"scene\",\"showlegend\":true,\"x\":[0.49226436018943787],\"y\":[0.06542499363422394],\"z\":[0.0959162712097168],\"type\":\"scatter3d\"},{\"hovertemplate\":\"color=death\\u003cbr\\u003e0=%{x}\\u003cbr\\u003e1=%{y}\\u003cbr\\u003e2=%{z}\\u003cextra\\u003e\\u003c\\u002fextra\\u003e\",\"legendgroup\":\"death\",\"marker\":{\"color\":\"#19d3f3\",\"symbol\":\"circle\"},\"mode\":\"markers\",\"name\":\"death\",\"scene\":\"scene\",\"showlegend\":true,\"x\":[-0.4999529719352722],\"y\":[-0.06854447722434998],\"z\":[0.16451573371887207],\"type\":\"scatter3d\"},{\"hovertemplate\":\"color=call\\u003cbr\\u003e0=%{x}\\u003cbr\\u003e1=%{y}\\u003cbr\\u003e2=%{z}\\u003cextra\\u003e\\u003c\\u002fextra\\u003e\",\"legendgroup\":\"call\",\"marker\":{\"color\":\"#FF6692\",\"symbol\":\"circle\"},\"mode\":\"markers\",\"name\":\"call\",\"scene\":\"scene\",\"showlegend\":true,\"x\":[-0.5541114807128906],\"y\":[-0.042947541922330856],\"z\":[0.13903848826885223],\"type\":\"scatter3d\"},{\"hovertemplate\":\"color=trees\\u003cbr\\u003e0=%{x}\\u003cbr\\u003e1=%{y}\\u003cbr\\u003e2=%{z}\\u003cextra\\u003e\\u003c\\u002fextra\\u003e\",\"legendgroup\":\"trees\",\"marker\":{\"color\":\"#B6E880\",\"symbol\":\"circle\"},\"mode\":\"markers\",\"name\":\"trees\",\"scene\":\"scene\",\"showlegend\":true,\"x\":[0.6782583594322205],\"y\":[-0.0790649801492691],\"z\":[0.21393470466136932],\"type\":\"scatter3d\"},{\"hovertemplate\":\"color=fight\\u003cbr\\u003e0=%{x}\\u003cbr\\u003e1=%{y}\\u003cbr\\u003e2=%{z}\\u003cextra\\u003e\\u003c\\u002fextra\\u003e\",\"legendgroup\":\"fight\",\"marker\":{\"color\":\"#FF97FF\",\"symbol\":\"circle\"},\"mode\":\"markers\",\"name\":\"fight\",\"scene\":\"scene\",\"showlegend\":true,\"x\":[-0.4395139217376709],\"y\":[-0.2482239007949829],\"z\":[0.3649934232234955],\"type\":\"scatter3d\"},{\"hovertemplate\":\"color=riverrun\\u003cbr\\u003e0=%{x}\\u003cbr\\u003e1=%{y}\\u003cbr\\u003e2=%{z}\\u003cextra\\u003e\\u003c\\u002fextra\\u003e\",\"legendgroup\":\"riverrun\",\"marker\":{\"color\":\"#FECB52\",\"symbol\":\"circle\"},\"mode\":\"markers\",\"name\":\"riverrun\",\"scene\":\"scene\",\"showlegend\":true,\"x\":[-0.6019138693809509],\"y\":[0.3634720742702484],\"z\":[0.20486052334308624],\"type\":\"scatter3d\"}],                        {\"template\":{\"data\":{\"histogram2dcontour\":[{\"type\":\"histogram2dcontour\",\"colorbar\":{\"outlinewidth\":0,\"ticks\":\"\"},\"colorscale\":[[0.0,\"#0d0887\"],[0.1111111111111111,\"#46039f\"],[0.2222222222222222,\"#7201a8\"],[0.3333333333333333,\"#9c179e\"],[0.4444444444444444,\"#bd3786\"],[0.5555555555555556,\"#d8576b\"],[0.6666666666666666,\"#ed7953\"],[0.7777777777777778,\"#fb9f3a\"],[0.8888888888888888,\"#fdca26\"],[1.0,\"#f0f921\"]]}],\"choropleth\":[{\"type\":\"choropleth\",\"colorbar\":{\"outlinewidth\":0,\"ticks\":\"\"}}],\"histogram2d\":[{\"type\":\"histogram2d\",\"colorbar\":{\"outlinewidth\":0,\"ticks\":\"\"},\"colorscale\":[[0.0,\"#0d0887\"],[0.1111111111111111,\"#46039f\"],[0.2222222222222222,\"#7201a8\"],[0.3333333333333333,\"#9c179e\"],[0.4444444444444444,\"#bd3786\"],[0.5555555555555556,\"#d8576b\"],[0.6666666666666666,\"#ed7953\"],[0.7777777777777778,\"#fb9f3a\"],[0.8888888888888888,\"#fdca26\"],[1.0,\"#f0f921\"]]}],\"heatmap\":[{\"type\":\"heatmap\",\"colorbar\":{\"outlinewidth\":0,\"ticks\":\"\"},\"colorscale\":[[0.0,\"#0d0887\"],[0.1111111111111111,\"#46039f\"],[0.2222222222222222,\"#7201a8\"],[0.3333333333333333,\"#9c179e\"],[0.4444444444444444,\"#bd3786\"],[0.5555555555555556,\"#d8576b\"],[0.6666666666666666,\"#ed7953\"],[0.7777777777777778,\"#fb9f3a\"],[0.8888888888888888,\"#fdca26\"],[1.0,\"#f0f921\"]]}],\"heatmapgl\":[{\"type\":\"heatmapgl\",\"colorbar\":{\"outlinewidth\":0,\"ticks\":\"\"},\"colorscale\":[[0.0,\"#0d0887\"],[0.1111111111111111,\"#46039f\"],[0.2222222222222222,\"#7201a8\"],[0.3333333333333333,\"#9c179e\"],[0.4444444444444444,\"#bd3786\"],[0.5555555555555556,\"#d8576b\"],[0.6666666666666666,\"#ed7953\"],[0.7777777777777778,\"#fb9f3a\"],[0.8888888888888888,\"#fdca26\"],[1.0,\"#f0f921\"]]}],\"contourcarpet\":[{\"type\":\"contourcarpet\",\"colorbar\":{\"outlinewidth\":0,\"ticks\":\"\"}}],\"contour\":[{\"type\":\"contour\",\"colorbar\":{\"outlinewidth\":0,\"ticks\":\"\"},\"colorscale\":[[0.0,\"#0d0887\"],[0.1111111111111111,\"#46039f\"],[0.2222222222222222,\"#7201a8\"],[0.3333333333333333,\"#9c179e\"],[0.4444444444444444,\"#bd3786\"],[0.5555555555555556,\"#d8576b\"],[0.6666666666666666,\"#ed7953\"],[0.7777777777777778,\"#fb9f3a\"],[0.8888888888888888,\"#fdca26\"],[1.0,\"#f0f921\"]]}],\"surface\":[{\"type\":\"surface\",\"colorbar\":{\"outlinewidth\":0,\"ticks\":\"\"},\"colorscale\":[[0.0,\"#0d0887\"],[0.1111111111111111,\"#46039f\"],[0.2222222222222222,\"#7201a8\"],[0.3333333333333333,\"#9c179e\"],[0.4444444444444444,\"#bd3786\"],[0.5555555555555556,\"#d8576b\"],[0.6666666666666666,\"#ed7953\"],[0.7777777777777778,\"#fb9f3a\"],[0.8888888888888888,\"#fdca26\"],[1.0,\"#f0f921\"]]}],\"mesh3d\":[{\"type\":\"mesh3d\",\"colorbar\":{\"outlinewidth\":0,\"ticks\":\"\"}}],\"scatter\":[{\"fillpattern\":{\"fillmode\":\"overlay\",\"size\":10,\"solidity\":0.2},\"type\":\"scatter\"}],\"parcoords\":[{\"type\":\"parcoords\",\"line\":{\"colorbar\":{\"outlinewidth\":0,\"ticks\":\"\"}}}],\"scatterpolargl\":[{\"type\":\"scatterpolargl\",\"marker\":{\"colorbar\":{\"outlinewidth\":0,\"ticks\":\"\"}}}],\"bar\":[{\"error_x\":{\"color\":\"#2a3f5f\"},\"error_y\":{\"color\":\"#2a3f5f\"},\"marker\":{\"line\":{\"color\":\"#E5ECF6\",\"width\":0.5},\"pattern\":{\"fillmode\":\"overlay\",\"size\":10,\"solidity\":0.2}},\"type\":\"bar\"}],\"scattergeo\":[{\"type\":\"scattergeo\",\"marker\":{\"colorbar\":{\"outlinewidth\":0,\"ticks\":\"\"}}}],\"scatterpolar\":[{\"type\":\"scatterpolar\",\"marker\":{\"colorbar\":{\"outlinewidth\":0,\"ticks\":\"\"}}}],\"histogram\":[{\"marker\":{\"pattern\":{\"fillmode\":\"overlay\",\"size\":10,\"solidity\":0.2}},\"type\":\"histogram\"}],\"scattergl\":[{\"type\":\"scattergl\",\"marker\":{\"colorbar\":{\"outlinewidth\":0,\"ticks\":\"\"}}}],\"scatter3d\":[{\"type\":\"scatter3d\",\"line\":{\"colorbar\":{\"outlinewidth\":0,\"ticks\":\"\"}},\"marker\":{\"colorbar\":{\"outlinewidth\":0,\"ticks\":\"\"}}}],\"scattermapbox\":[{\"type\":\"scattermapbox\",\"marker\":{\"colorbar\":{\"outlinewidth\":0,\"ticks\":\"\"}}}],\"scatterternary\":[{\"type\":\"scatterternary\",\"marker\":{\"colorbar\":{\"outlinewidth\":0,\"ticks\":\"\"}}}],\"scattercarpet\":[{\"type\":\"scattercarpet\",\"marker\":{\"colorbar\":{\"outlinewidth\":0,\"ticks\":\"\"}}}],\"carpet\":[{\"aaxis\":{\"endlinecolor\":\"#2a3f5f\",\"gridcolor\":\"white\",\"linecolor\":\"white\",\"minorgridcolor\":\"white\",\"startlinecolor\":\"#2a3f5f\"},\"baxis\":{\"endlinecolor\":\"#2a3f5f\",\"gridcolor\":\"white\",\"linecolor\":\"white\",\"minorgridcolor\":\"white\",\"startlinecolor\":\"#2a3f5f\"},\"type\":\"carpet\"}],\"table\":[{\"cells\":{\"fill\":{\"color\":\"#EBF0F8\"},\"line\":{\"color\":\"white\"}},\"header\":{\"fill\":{\"color\":\"#C8D4E3\"},\"line\":{\"color\":\"white\"}},\"type\":\"table\"}],\"barpolar\":[{\"marker\":{\"line\":{\"color\":\"#E5ECF6\",\"width\":0.5},\"pattern\":{\"fillmode\":\"overlay\",\"size\":10,\"solidity\":0.2}},\"type\":\"barpolar\"}],\"pie\":[{\"automargin\":true,\"type\":\"pie\"}]},\"layout\":{\"autotypenumbers\":\"strict\",\"colorway\":[\"#636efa\",\"#EF553B\",\"#00cc96\",\"#ab63fa\",\"#FFA15A\",\"#19d3f3\",\"#FF6692\",\"#B6E880\",\"#FF97FF\",\"#FECB52\"],\"font\":{\"color\":\"#2a3f5f\"},\"hovermode\":\"closest\",\"hoverlabel\":{\"align\":\"left\"},\"paper_bgcolor\":\"white\",\"plot_bgcolor\":\"#E5ECF6\",\"polar\":{\"bgcolor\":\"#E5ECF6\",\"angularaxis\":{\"gridcolor\":\"white\",\"linecolor\":\"white\",\"ticks\":\"\"},\"radialaxis\":{\"gridcolor\":\"white\",\"linecolor\":\"white\",\"ticks\":\"\"}},\"ternary\":{\"bgcolor\":\"#E5ECF6\",\"aaxis\":{\"gridcolor\":\"white\",\"linecolor\":\"white\",\"ticks\":\"\"},\"baxis\":{\"gridcolor\":\"white\",\"linecolor\":\"white\",\"ticks\":\"\"},\"caxis\":{\"gridcolor\":\"white\",\"linecolor\":\"white\",\"ticks\":\"\"}},\"coloraxis\":{\"colorbar\":{\"outlinewidth\":0,\"ticks\":\"\"}},\"colorscale\":{\"sequential\":[[0.0,\"#0d0887\"],[0.1111111111111111,\"#46039f\"],[0.2222222222222222,\"#7201a8\"],[0.3333333333333333,\"#9c179e\"],[0.4444444444444444,\"#bd3786\"],[0.5555555555555556,\"#d8576b\"],[0.6666666666666666,\"#ed7953\"],[0.7777777777777778,\"#fb9f3a\"],[0.8888888888888888,\"#fdca26\"],[1.0,\"#f0f921\"]],\"sequentialminus\":[[0.0,\"#0d0887\"],[0.1111111111111111,\"#46039f\"],[0.2222222222222222,\"#7201a8\"],[0.3333333333333333,\"#9c179e\"],[0.4444444444444444,\"#bd3786\"],[0.5555555555555556,\"#d8576b\"],[0.6666666666666666,\"#ed7953\"],[0.7777777777777778,\"#fb9f3a\"],[0.8888888888888888,\"#fdca26\"],[1.0,\"#f0f921\"]],\"diverging\":[[0,\"#8e0152\"],[0.1,\"#c51b7d\"],[0.2,\"#de77ae\"],[0.3,\"#f1b6da\"],[0.4,\"#fde0ef\"],[0.5,\"#f7f7f7\"],[0.6,\"#e6f5d0\"],[0.7,\"#b8e186\"],[0.8,\"#7fbc41\"],[0.9,\"#4d9221\"],[1,\"#276419\"]]},\"xaxis\":{\"gridcolor\":\"white\",\"linecolor\":\"white\",\"ticks\":\"\",\"title\":{\"standoff\":15},\"zerolinecolor\":\"white\",\"automargin\":true,\"zerolinewidth\":2},\"yaxis\":{\"gridcolor\":\"white\",\"linecolor\":\"white\",\"ticks\":\"\",\"title\":{\"standoff\":15},\"zerolinecolor\":\"white\",\"automargin\":true,\"zerolinewidth\":2},\"scene\":{\"xaxis\":{\"backgroundcolor\":\"#E5ECF6\",\"gridcolor\":\"white\",\"linecolor\":\"white\",\"showbackground\":true,\"ticks\":\"\",\"zerolinecolor\":\"white\",\"gridwidth\":2},\"yaxis\":{\"backgroundcolor\":\"#E5ECF6\",\"gridcolor\":\"white\",\"linecolor\":\"white\",\"showbackground\":true,\"ticks\":\"\",\"zerolinecolor\":\"white\",\"gridwidth\":2},\"zaxis\":{\"backgroundcolor\":\"#E5ECF6\",\"gridcolor\":\"white\",\"linecolor\":\"white\",\"showbackground\":true,\"ticks\":\"\",\"zerolinecolor\":\"white\",\"gridwidth\":2}},\"shapedefaults\":{\"line\":{\"color\":\"#2a3f5f\"}},\"annotationdefaults\":{\"arrowcolor\":\"#2a3f5f\",\"arrowhead\":0,\"arrowwidth\":1},\"geo\":{\"bgcolor\":\"white\",\"landcolor\":\"#E5ECF6\",\"subunitcolor\":\"white\",\"showland\":true,\"showlakes\":true,\"lakecolor\":\"white\"},\"title\":{\"x\":0.05},\"mapbox\":{\"style\":\"light\"}}},\"scene\":{\"domain\":{\"x\":[0.0,1.0],\"y\":[0.0,1.0]},\"xaxis\":{\"title\":{\"text\":\"0\"}},\"yaxis\":{\"title\":{\"text\":\"1\"}},\"zaxis\":{\"title\":{\"text\":\"2\"}}},\"legend\":{\"title\":{\"text\":\"color\"},\"tracegroupgap\":0},\"margin\":{\"t\":60}},                        {\"responsive\": true}                    ).then(function(){\n",
              "                            \n",
              "var gd = document.getElementById('20390b18-7ee5-482c-b4ba-63406c1effa1');\n",
              "var x = new MutationObserver(function (mutations, observer) {{\n",
              "        var display = window.getComputedStyle(gd).display;\n",
              "        if (!display || display === 'none') {{\n",
              "            console.log([gd, 'removed!']);\n",
              "            Plotly.purge(gd);\n",
              "            observer.disconnect();\n",
              "        }}\n",
              "}});\n",
              "\n",
              "// Listen for the removal of the full notebook cells\n",
              "var notebookContainer = gd.closest('#notebook-container');\n",
              "if (notebookContainer) {{\n",
              "    x.observe(notebookContainer, {childList: true});\n",
              "}}\n",
              "\n",
              "// Listen for the clearing of the current output cell\n",
              "var outputEl = gd.closest('.output');\n",
              "if (outputEl) {{\n",
              "    x.observe(outputEl, {childList: true});\n",
              "}}\n",
              "\n",
              "                        })                };                            </script>        </div>\n",
              "</body>\n",
              "</html>"
            ]
          },
          "metadata": {}
        }
      ]
    },
    {
      "cell_type": "code",
      "source": [],
      "metadata": {
        "id": "qoppC6dldqx9"
      },
      "execution_count": null,
      "outputs": []
    }
  ]
}